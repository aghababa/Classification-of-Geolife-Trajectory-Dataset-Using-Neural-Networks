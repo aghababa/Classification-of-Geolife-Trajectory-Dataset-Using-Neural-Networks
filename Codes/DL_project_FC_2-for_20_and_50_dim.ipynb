{
 "cells": [
  {
   "cell_type": "code",
   "execution_count": 48,
   "metadata": {
    "id": "V-xJxlvIlCjB",
    "scrolled": true
   },
   "outputs": [],
   "source": [
    "import numpy as np\n",
    "import time\n",
    "import math\n",
    "import random\n",
    "import glob\n",
    "from scipy import linalg as LA\n",
    "import pandas as pd\n",
    "from sklearn.model_selection import train_test_split\n",
    "import torch\n",
    "import torch.nn as nn\n",
    "import torch.optim as optim\n",
    "from torch.utils.data import sampler\n",
    "import torchvision.transforms as T\n",
    "\n",
    "import matplotlib.pyplot as plt\n",
    "%matplotlib inline"
   ]
  },
  {
   "cell_type": "code",
   "execution_count": 49,
   "metadata": {
    "id": "3Baay7UJlCjG"
   },
   "outputs": [],
   "source": [
    "float = np.vectorize(float)\n",
    "\n",
    "def read_file(file_name):\n",
    "    data = []\n",
    "    with open(file_name, \"r\") as f:\n",
    "        for line in f:\n",
    "            item = line.strip().split(\",\")\n",
    "            data.append(float(item))\n",
    "    return data"
   ]
  },
  {
   "cell_type": "code",
   "execution_count": 51,
   "metadata": {
    "id": "XD6GckUylCjI"
   },
   "outputs": [],
   "source": [
    "#I = glob.glob('DL Project/20-dim data (41) representation sigma=0.3/*.csv', recursive=True)\n",
    "#I = glob.glob('DL Project/20-dim data (41) representation old distamce/*.csv', recursive=True)\n",
    "#I = glob.glob('DL Project/50-dim data (41) representation sigma=0.25/*.csv', recursive=True)\n",
    "#I = glob.glob('DL Project/50-dim data (41) representation sigma=1000/*.csv', recursive=True)\n",
    "I = glob.glob('DL Project/50-dim data (41) representation old distamce/*.csv', recursive=True)\n",
    "#I = glob.glob('DL Project/250-dim data (41) representation sigma=1/*.csv', recursive=True)\n",
    "#I = glob.glob('DL Project/250-dim data (41) representation old distamce/*.csv', recursive=True)\n"
   ]
  },
  {
   "cell_type": "code",
   "execution_count": 52,
   "metadata": {},
   "outputs": [
    {
     "data": {
      "text/plain": [
       "41"
      ]
     },
     "execution_count": 52,
     "metadata": {},
     "output_type": "execute_result"
    }
   ],
   "source": [
    "r = len(I)\n",
    "r"
   ]
  },
  {
   "cell_type": "code",
   "execution_count": 53,
   "metadata": {},
   "outputs": [],
   "source": [
    "data_embed = [0] * r\n",
    "\n",
    "for i in range(r):\n",
    "    data_embed[i] = [len(np.array(read_file(I[i]))), np.array(read_file(I[i]))]\n",
    "\n",
    "data_embed = np.array(data_embed)\n",
    "#data_embed = data_embed[data_embed[:,0].argsort()]"
   ]
  },
  {
   "cell_type": "code",
   "execution_count": 54,
   "metadata": {
    "id": "abqsEqTalCjK"
   },
   "outputs": [],
   "source": [
    "X_train = [0] * r\n",
    "X_test = [0] * r\n",
    "y_train = [0] * r\n",
    "y_test = [0] * r\n",
    "\n",
    "for i in range(r):\n",
    "    X_train[i], X_test[i], y_train[i], y_test[i] = train_test_split(np.array(data_embed[i][1]), \n",
    "                                                                np.ones(len(data_embed[i][1])), \n",
    "                                                                test_size=0.3, \n",
    "                                                                random_state=109)"
   ]
  },
  {
   "cell_type": "code",
   "execution_count": 55,
   "metadata": {},
   "outputs": [],
   "source": [
    "for i in range(r):\n",
    "    X_train[i] = torch.tensor(X_train[i])\n",
    "    X_test[i] = torch.tensor(X_test[i])\n",
    "    y_train[i] = torch.tensor(y_train[i])\n",
    "    y_test[i] = torch.tensor(y_test[i])"
   ]
  },
  {
   "cell_type": "code",
   "execution_count": 56,
   "metadata": {},
   "outputs": [
    {
     "data": {
      "text/plain": [
       "tensor([0.0894, 0.0895, 0.1878, 0.2237, 0.2487, 0.2606, 0.2174, 0.1535, 0.1233,\n",
       "        0.0230, 0.0381, 0.1052, 0.1446, 0.1522, 0.0785, 0.0747, 0.2651, 0.3137,\n",
       "        0.3166, 0.4247, 0.4089, 0.3639, 0.4056, 0.3045, 0.4469, 0.2612, 0.3823,\n",
       "        0.3474, 0.5713, 0.6286, 0.7101, 0.6100, 0.6540, 0.6263, 0.6342, 0.3726,\n",
       "        0.2940, 0.6580, 0.6909, 1.0120, 1.3365, 1.4892, 1.7201, 0.5754, 0.5765,\n",
       "        1.1204, 1.1804, 0.3535, 0.4736, 0.6166], dtype=torch.float64)"
      ]
     },
     "execution_count": 56,
     "metadata": {},
     "output_type": "execute_result"
    }
   ],
   "source": [
    "X_train[0][0]"
   ]
  },
  {
   "cell_type": "code",
   "execution_count": 57,
   "metadata": {},
   "outputs": [
    {
     "data": {
      "text/plain": [
       "array([407, 544, 112, 371, 154, 394, 147, 423, 2014, 167, 101, 215, 150,\n",
       "       583, 318, 173, 148, 146, 150, 196, 747, 295, 100, 260, 389, 2124,\n",
       "       275, 182, 160, 108, 226, 196, 113, 207, 144, 800, 678, 120, 106,\n",
       "       382, 133], dtype=object)"
      ]
     },
     "execution_count": 57,
     "metadata": {},
     "output_type": "execute_result"
    }
   ],
   "source": [
    "data_embed[:,0]"
   ]
  },
  {
   "cell_type": "markdown",
   "metadata": {},
   "source": [
    "# 2-Layer Fully Connected Network"
   ]
  },
  {
   "cell_type": "markdown",
   "metadata": {},
   "source": [
    "## 10-Class Classification"
   ]
  },
  {
   "cell_type": "code",
   "execution_count": 45,
   "metadata": {},
   "outputs": [
    {
     "name": "stdout",
     "output_type": "stream",
     "text": [
      "0 2.3003592491149902\n",
      "100 1.6519252061843872\n",
      "200 1.503686785697937\n",
      "300 1.3084096908569336\n",
      "400 1.1010472774505615\n",
      "500 0.9221939444541931\n",
      "600 0.7896917462348938\n",
      "700 0.6678414344787598\n",
      "800 0.5557985305786133\n",
      "900 0.4554961025714874\n",
      "1000 0.3696424663066864\n",
      "1100 0.30116137862205505\n",
      "1200 0.24994729459285736\n",
      "1300 0.21155938506126404\n",
      "1400 0.18389835953712463\n",
      "1500 0.1638399213552475\n",
      "1600 0.14930959045886993\n",
      "1700 0.13878008723258972\n",
      "1800 0.13090552389621735\n",
      "1900 0.12483219057321548\n"
     ]
    },
    {
     "data": {
      "image/png": "[encoded data removed]",
      "text/plain": [
       "<Figure size 432x288 with 1 Axes>"
      ]
     },
     "metadata": {
      "needs_background": "light"
     },
     "output_type": "display_data"
    }
   ],
   "source": [
    "Start_time = time.time()\n",
    "\n",
    "mean_train_error = 0\n",
    "mean_test_error = 0\n",
    "var_test_error = 0\n",
    "\n",
    "\n",
    "lr_decay = 0.8\n",
    "num_trials = 1\n",
    "learning_rate = 1e-3\n",
    "Num_updates = 2000\n",
    "losses = torch.zeros(num_trials, r-1, Num_updates)\n",
    "\n",
    "for s in range(num_trials):\n",
    "\n",
    "    error_train_list_all = []\n",
    "    error_test_list_all = []\n",
    "\n",
    "    Start_time_2 = time.time()\n",
    "\n",
    "    for i in range(r-9): \n",
    "\n",
    "        x = torch.cat((X_train[i], X_train[i+1], X_train[i+2], X_train[i+3], \n",
    "                       X_train[i+4],X_train[i+5], X_train[i+6], X_train[i+7],\n",
    "                       X_train[i+8], X_train[i+9]), 0).float()\n",
    "        y = torch.cat((0 * y_train[i], y_train[i+1], 2 * y_train[i+2], 3 * y_train[i+3],\n",
    "                       4 * y_train[i+4], 5 * y_train[i+5], 6 * y_train[i+6], 7* y_train[i+7],\n",
    "                       8 * y_train[i+8], 9 * y_train[i+9]), 0).long()\n",
    "\n",
    "        N = len(x) # N is batch size\n",
    "        D_in = len(x[0]) # D_in is input dimension\n",
    "        H1 = 200 # H1 is first hidden dimension, \n",
    "        H2 = 50 # H2 is second hidden dimension, \n",
    "        D_out = 10 # D_out is output dimension\n",
    "\n",
    "        model = torch.nn.Sequential(\n",
    "                                    torch.nn.Linear(D_in, H1),\n",
    "                                    #torch.nn.LeakyReLU(0.01),\n",
    "                                    torch.nn.Tanh(),\n",
    "                                    #torch.nn.ReLU(),\n",
    "                                    #torch.nn.Dropout(p=q),\n",
    "                                    torch.nn.Linear(H1, H2),\n",
    "                                    #torch.nn.LeakyReLU(0.01),\n",
    "                                    #torch.nn.ReLU(),\n",
    "                                    torch.nn.Tanh(),\n",
    "                                    #torch.nn.Dropout(p=q),\n",
    "                                    torch.nn.Linear(H2, D_out)\n",
    "                                    )\n",
    "\n",
    "        loss_fn = torch.nn.CrossEntropyLoss()\n",
    "        optimizer = torch.optim.Adam(model.parameters(), lr=learning_rate)\n",
    "        \n",
    "        for t in range(Num_updates):\n",
    "            y_pred = model(x) # of shape (N,D_out)\n",
    "            loss = loss_fn(y_pred, y)\n",
    "            losses[s, i, t] = loss\n",
    "\n",
    "            if i == 20:\n",
    "                if t % 100 == 0:\n",
    "                    print(t, loss.item())\n",
    "            \n",
    "            if (t+1) % 500 == 0:\n",
    "                optimizer.param_groups[0]['lr'] = lr_decay * learning_rate\n",
    "\n",
    "            optimizer.zero_grad()\n",
    "\n",
    "            loss.backward() # Backward pass\n",
    "\n",
    "            optimizer.step()  # Calling the step function on the Optimizer \n",
    "\n",
    "        X = torch.cat((X_test[i], X_test[i+1], X_test[i+2], X_test[i+3], \n",
    "                       X_test[i+4],X_test[i+5], X_test[i+6], X_test[i+7],\n",
    "                       X_test[i+8], X_test[i+9]), 0).float()\n",
    "        Y = torch.cat((0 * y_test[i], y_test[i+1], 2 * y_test[i+2], 3 * y_test[i+3],\n",
    "                       4 * y_test[i+4], 5 * y_test[i+5], 6 * y_test[i+6], 7* y_test[i+7],\n",
    "                       8 * y_test[i+8], 9 * y_test[i+9]), 0).long()\n",
    "        \n",
    "        Y_pred = model(X)\n",
    "        \n",
    "        error_train_list_all.append((torch.argmax(y_pred, 1) != y).sum().float()/len(y))\n",
    "        error_test_list_all.append((torch.argmax(Y_pred, 1) != Y).sum().float()/len(Y))\n",
    "\n",
    "    mean_train_error += np.mean(error_train_list_all)\n",
    "    mean_test_error += np.mean(error_test_list_all)\n",
    "    var_test_error += np.var(error_test_list_all)\n",
    "\n",
    "mean_train_error /= num_trials\n",
    "mean_test_error /= num_trials\n",
    "var_test_error /= num_trials\n",
    "\n",
    "plt.plot((torch.mean(losses[0], dim=0)).detach().numpy())\n",
    "plt.show()"
   ]
  },
  {
   "cell_type": "markdown",
   "metadata": {},
   "source": [
    "#### Old Distance, $|Q|=50$"
   ]
  },
  {
   "cell_type": "code",
   "execution_count": 47,
   "metadata": {},
   "outputs": [
    {
     "name": "stdout",
     "output_type": "stream",
     "text": [
      "|Q|=50, Old Distance, Number of Users:  41, Number of Trials =  1\n",
      "Activation = Tanh, Learning Decay = 0.8, Number of Updates =  2000\n"
     ]
    },
    {
     "data": {
      "text/html": [
       "<div>\n",
       "<style scoped>\n",
       "    .dataframe tbody tr th:only-of-type {\n",
       "        vertical-align: middle;\n",
       "    }\n",
       "\n",
       "    .dataframe tbody tr th {\n",
       "        vertical-align: top;\n",
       "    }\n",
       "\n",
       "    .dataframe thead th {\n",
       "        text-align: right;\n",
       "    }\n",
       "</style>\n",
       "<table border=\"1\" class=\"dataframe\">\n",
       "  <thead>\n",
       "    <tr style=\"text-align: right;\">\n",
       "      <th></th>\n",
       "      <th>Classifier</th>\n",
       "      <th>Hid_dim 1</th>\n",
       "      <th>Hid_dim 2</th>\n",
       "      <th>Learning Rate</th>\n",
       "      <th>Train Error</th>\n",
       "      <th>Test Error</th>\n",
       "      <th>Var_Error</th>\n",
       "    </tr>\n",
       "  </thead>\n",
       "  <tbody>\n",
       "    <tr>\n",
       "      <td>1</td>\n",
       "      <td>Fully Connected 2-Layer</td>\n",
       "      <td>200</td>\n",
       "      <td>50</td>\n",
       "      <td>0.001</td>\n",
       "      <td>0.0356</td>\n",
       "      <td>0.4827</td>\n",
       "      <td>0.0083</td>\n",
       "    </tr>\n",
       "  </tbody>\n",
       "</table>\n",
       "</div>"
      ],
      "text/plain": [
       "                Classifier  Hid_dim 1  Hid_dim 2  Learning Rate  Train Error  \\\n",
       "1  Fully Connected 2-Layer        200         50          0.001       0.0356   \n",
       "\n",
       "   Test Error  Var_Error  \n",
       "1      0.4827     0.0083  "
      ]
     },
     "execution_count": 47,
     "metadata": {},
     "output_type": "execute_result"
    }
   ],
   "source": [
    "print('|Q|=50,', 'Old Distance,', \"Number of Users: \", \"41,\", \n",
    "      'Number of Trials = ', num_trials)\n",
    "print(\"Activation = Tanh,\", 'Learning Decay = 0.8,', \"Number of Updates = \", Num_updates)\n",
    "Dic_1 = {}\n",
    "\n",
    "\n",
    "Dic_1[1] = [\"Fully Connected 2-Layer\", H1, H2, learning_rate, \n",
    "              np.round(mean_train_error, decimals = 4), \n",
    "              np.round(mean_test_error, decimals = 4),\n",
    "              np.round(var_test_error, decimals = 4)]\n",
    "    \n",
    "df_1 = pd.DataFrame.from_dict(Dic_1, orient='index', \n",
    "                              columns=['Classifier', 'Hid_dim 1', 'Hid_dim 2',  \n",
    "                                       'Learning Rate', \n",
    "                                       'Train Error', 'Test Error', 'Var_Error'])\n",
    "df_1"
   ]
  },
  {
   "cell_type": "markdown",
   "metadata": {},
   "source": [
    "#### New Distance, $|Q|=50$, $\\sigma=1000$"
   ]
  },
  {
   "cell_type": "code",
   "execution_count": 30,
   "metadata": {},
   "outputs": [
    {
     "name": "stdout",
     "output_type": "stream",
     "text": [
      "|Q|=50, New Distance, sigma=1000, Number of Users:  41, Number of Trials =  1\n",
      "Activation = LeakyReLU(0.01), Learning Decay = 0.8, Number of Updates =  1000\n"
     ]
    },
    {
     "data": {
      "text/html": [
       "<div>\n",
       "<style scoped>\n",
       "    .dataframe tbody tr th:only-of-type {\n",
       "        vertical-align: middle;\n",
       "    }\n",
       "\n",
       "    .dataframe tbody tr th {\n",
       "        vertical-align: top;\n",
       "    }\n",
       "\n",
       "    .dataframe thead th {\n",
       "        text-align: right;\n",
       "    }\n",
       "</style>\n",
       "<table border=\"1\" class=\"dataframe\">\n",
       "  <thead>\n",
       "    <tr style=\"text-align: right;\">\n",
       "      <th></th>\n",
       "      <th>Classifier</th>\n",
       "      <th>Hid_dim 1</th>\n",
       "      <th>Hid_dim 2</th>\n",
       "      <th>Learning Rate</th>\n",
       "      <th>Train Error</th>\n",
       "      <th>Test Error</th>\n",
       "      <th>Var_Error</th>\n",
       "    </tr>\n",
       "  </thead>\n",
       "  <tbody>\n",
       "    <tr>\n",
       "      <td>1</td>\n",
       "      <td>Fully Connected 2-Layer</td>\n",
       "      <td>300</td>\n",
       "      <td>50</td>\n",
       "      <td>0.02</td>\n",
       "      <td>0.474</td>\n",
       "      <td>0.5478</td>\n",
       "      <td>0.0059</td>\n",
       "    </tr>\n",
       "  </tbody>\n",
       "</table>\n",
       "</div>"
      ],
      "text/plain": [
       "                Classifier  Hid_dim 1  Hid_dim 2  Learning Rate  Train Error  \\\n",
       "1  Fully Connected 2-Layer        300         50           0.02        0.474   \n",
       "\n",
       "   Test Error  Var_Error  \n",
       "1      0.5478     0.0059  "
      ]
     },
     "execution_count": 30,
     "metadata": {},
     "output_type": "execute_result"
    }
   ],
   "source": [
    "print('|Q|=50,', 'New Distance,', 'sigma=1000,', \"Number of Users: \", \"41,\", \n",
    "      'Number of Trials = ', num_trials)\n",
    "print(\"Activation = LeakyReLU(0.01),\", 'Learning Decay = 0.8,', \n",
    "      \"Number of Updates = \", Num_updates)\n",
    "Dic_1 = {}\n",
    "\n",
    "\n",
    "Dic_1[1] = [\"Fully Connected 2-Layer\", H1, H2, learning_rate, \n",
    "              np.round(mean_train_error, decimals = 4), \n",
    "              np.round(mean_test_error, decimals = 4),\n",
    "              np.round(var_test_error, decimals = 4)]\n",
    "    \n",
    "df_1 = pd.DataFrame.from_dict(Dic_1, orient='index', \n",
    "                              columns=['Classifier', 'Hid_dim 1', 'Hid_dim 2',  \n",
    "                                       'Learning Rate', \n",
    "                                       'Train Error', 'Test Error', 'Var_Error'])\n",
    "df_1"
   ]
  },
  {
   "cell_type": "markdown",
   "metadata": {},
   "source": [
    "#### New Distance, $|Q|=50$, $\\sigma=0.25$"
   ]
  },
  {
   "cell_type": "code",
   "execution_count": 12,
   "metadata": {},
   "outputs": [
    {
     "name": "stdout",
     "output_type": "stream",
     "text": [
      "|Q|=50, New Distance, sigma=0.25, Number of Users:  41, Number of Trials =  1\n",
      "Activation = LeakyReLU(0.01), Learning Decay = 0.8, Number of Updates =  100\n"
     ]
    },
    {
     "data": {
      "text/html": [
       "<div>\n",
       "<style scoped>\n",
       "    .dataframe tbody tr th:only-of-type {\n",
       "        vertical-align: middle;\n",
       "    }\n",
       "\n",
       "    .dataframe tbody tr th {\n",
       "        vertical-align: top;\n",
       "    }\n",
       "\n",
       "    .dataframe thead th {\n",
       "        text-align: right;\n",
       "    }\n",
       "</style>\n",
       "<table border=\"1\" class=\"dataframe\">\n",
       "  <thead>\n",
       "    <tr style=\"text-align: right;\">\n",
       "      <th></th>\n",
       "      <th>Classifier</th>\n",
       "      <th>Hid_dim 1</th>\n",
       "      <th>Hid_dim 2</th>\n",
       "      <th>Learning Rate</th>\n",
       "      <th>Train Error</th>\n",
       "      <th>Test Error</th>\n",
       "      <th>Var_Error</th>\n",
       "    </tr>\n",
       "  </thead>\n",
       "  <tbody>\n",
       "    <tr>\n",
       "      <td>1</td>\n",
       "      <td>Fully Connected 2-Layer</td>\n",
       "      <td>500</td>\n",
       "      <td>200</td>\n",
       "      <td>0.01</td>\n",
       "      <td>0.0375</td>\n",
       "      <td>0.4334</td>\n",
       "      <td>0.0074</td>\n",
       "    </tr>\n",
       "  </tbody>\n",
       "</table>\n",
       "</div>"
      ],
      "text/plain": [
       "                Classifier  Hid_dim 1  Hid_dim 2  Learning Rate  Train Error  \\\n",
       "1  Fully Connected 2-Layer        500        200           0.01       0.0375   \n",
       "\n",
       "   Test Error  Var_Error  \n",
       "1      0.4334     0.0074  "
      ]
     },
     "execution_count": 12,
     "metadata": {},
     "output_type": "execute_result"
    }
   ],
   "source": [
    "print('|Q|=50,', 'New Distance,', 'sigma=0.25,', \"Number of Users: \", \"41,\", \n",
    "      'Number of Trials = ', num_trials)\n",
    "print(\"Activation = LeakyReLU(0.01),\", 'Learning Decay = 0.8,', \"Number of Updates = \", Num_updates)\n",
    "Dic_1 = {}\n",
    "\n",
    "\n",
    "Dic_1[1] = [\"Fully Connected 2-Layer\", H1, H2, learning_rate, \n",
    "              np.round(mean_train_error, decimals = 4), \n",
    "              np.round(mean_test_error, decimals = 4),\n",
    "              np.round(var_test_error, decimals = 4)]\n",
    "    \n",
    "df_1 = pd.DataFrame.from_dict(Dic_1, orient='index', \n",
    "                              columns=['Classifier', 'Hid_dim 1', 'Hid_dim 2',  \n",
    "                                       'Learning Rate', \n",
    "                                       'Train Error', 'Test Error', 'Var_Error'])\n",
    "df_1"
   ]
  },
  {
   "cell_type": "markdown",
   "metadata": {},
   "source": [
    "#### New Distance, $|Q|=20$, $\\sigma=0.3$"
   ]
  },
  {
   "cell_type": "code",
   "execution_count": 15,
   "metadata": {},
   "outputs": [
    {
     "name": "stdout",
     "output_type": "stream",
     "text": [
      "|Q|=20, New Distance, sigma=0.3, Number of Users:  41, Number of Trials =  1\n",
      "Activation = LeakyReLU(0.01), Learning Decay = 0.8, Number of Updates =  10000\n"
     ]
    },
    {
     "data": {
      "text/html": [
       "<div>\n",
       "<style scoped>\n",
       "    .dataframe tbody tr th:only-of-type {\n",
       "        vertical-align: middle;\n",
       "    }\n",
       "\n",
       "    .dataframe tbody tr th {\n",
       "        vertical-align: top;\n",
       "    }\n",
       "\n",
       "    .dataframe thead th {\n",
       "        text-align: right;\n",
       "    }\n",
       "</style>\n",
       "<table border=\"1\" class=\"dataframe\">\n",
       "  <thead>\n",
       "    <tr style=\"text-align: right;\">\n",
       "      <th></th>\n",
       "      <th>Classifier</th>\n",
       "      <th>Hid_dim 1</th>\n",
       "      <th>Hid_dim 2</th>\n",
       "      <th>Learning Rate</th>\n",
       "      <th>Train Error</th>\n",
       "      <th>Test Error</th>\n",
       "      <th>Var_Error</th>\n",
       "    </tr>\n",
       "  </thead>\n",
       "  <tbody>\n",
       "    <tr>\n",
       "      <td>1</td>\n",
       "      <td>Fully Connected 2-Layer</td>\n",
       "      <td>50</td>\n",
       "      <td>20</td>\n",
       "      <td>0.01</td>\n",
       "      <td>0.307</td>\n",
       "      <td>0.4337</td>\n",
       "      <td>0.0046</td>\n",
       "    </tr>\n",
       "  </tbody>\n",
       "</table>\n",
       "</div>"
      ],
      "text/plain": [
       "                Classifier  Hid_dim 1  Hid_dim 2  Learning Rate  Train Error  \\\n",
       "1  Fully Connected 2-Layer         50         20           0.01        0.307   \n",
       "\n",
       "   Test Error  Var_Error  \n",
       "1      0.4337     0.0046  "
      ]
     },
     "execution_count": 15,
     "metadata": {},
     "output_type": "execute_result"
    }
   ],
   "source": [
    "print('|Q|=20,', 'New Distance,', 'sigma=0.3,', \"Number of Users: \", \"41,\", \n",
    "      'Number of Trials = ', num_trials)\n",
    "print(\"Activation = LeakyReLU(0.01),\", 'Learning Decay = 0.8,', \"Number of Updates = \", Num_updates)\n",
    "Dic_1 = {}\n",
    "\n",
    "\n",
    "Dic_1[1] = [\"Fully Connected 2-Layer\", H1, H2, learning_rate, \n",
    "              np.round(mean_train_error, decimals = 4), \n",
    "              np.round(mean_test_error, decimals = 4),\n",
    "              np.round(var_test_error, decimals = 4)]\n",
    "    \n",
    "df_1 = pd.DataFrame.from_dict(Dic_1, orient='index', \n",
    "                              columns=['Classifier', 'Hid_dim 1', 'Hid_dim 2',  \n",
    "                                       'Learning Rate', \n",
    "                                       'Train Error', 'Test Error', 'Var_Error'])\n",
    "df_1"
   ]
  },
  {
   "cell_type": "markdown",
   "metadata": {},
   "source": [
    "#### Old Distance, $|Q|=20$"
   ]
  },
  {
   "cell_type": "code",
   "execution_count": 20,
   "metadata": {},
   "outputs": [
    {
     "name": "stdout",
     "output_type": "stream",
     "text": [
      "|Q|=20, Old Distance, Number of Users:  41, Number of Trials =  1\n",
      "Activation = Tanh, Learning Decay = 0.8, Number of Updates =  10000\n"
     ]
    },
    {
     "data": {
      "text/html": [
       "<div>\n",
       "<style scoped>\n",
       "    .dataframe tbody tr th:only-of-type {\n",
       "        vertical-align: middle;\n",
       "    }\n",
       "\n",
       "    .dataframe tbody tr th {\n",
       "        vertical-align: top;\n",
       "    }\n",
       "\n",
       "    .dataframe thead th {\n",
       "        text-align: right;\n",
       "    }\n",
       "</style>\n",
       "<table border=\"1\" class=\"dataframe\">\n",
       "  <thead>\n",
       "    <tr style=\"text-align: right;\">\n",
       "      <th></th>\n",
       "      <th>Classifier</th>\n",
       "      <th>Hid_dim 1</th>\n",
       "      <th>Hid_dim 2</th>\n",
       "      <th>Drop Out p</th>\n",
       "      <th>Learning Rate</th>\n",
       "      <th>Batch Normaln</th>\n",
       "      <th>Train Error</th>\n",
       "      <th>Test Error</th>\n",
       "      <th>Var_Error</th>\n",
       "    </tr>\n",
       "  </thead>\n",
       "  <tbody>\n",
       "    <tr>\n",
       "      <td>1</td>\n",
       "      <td>Fully Connected 2-Layer</td>\n",
       "      <td>50</td>\n",
       "      <td>20</td>\n",
       "      <td>None</td>\n",
       "      <td>0.001</td>\n",
       "      <td>len(x)</td>\n",
       "      <td>0.1693</td>\n",
       "      <td>0.212</td>\n",
       "      <td>0.0015</td>\n",
       "    </tr>\n",
       "  </tbody>\n",
       "</table>\n",
       "</div>"
      ],
      "text/plain": [
       "                Classifier  Hid_dim 1  Hid_dim 2 Drop Out p  Learning Rate  \\\n",
       "1  Fully Connected 2-Layer         50         20       None          0.001   \n",
       "\n",
       "  Batch Normaln  Train Error  Test Error  Var_Error  \n",
       "1        len(x)       0.1693       0.212     0.0015  "
      ]
     },
     "execution_count": 20,
     "metadata": {},
     "output_type": "execute_result"
    }
   ],
   "source": [
    "print('|Q|=20,', 'Old Distance,', \"Number of Users: \", \"41,\", \n",
    "      'Number of Trials = ', num_trials)\n",
    "print(\"Activation = Tanh,\", 'Learning Decay = 0.8,', \"Number of Updates = \", Num_updates)\n",
    "Dic_1 = {}\n",
    "\n",
    "models = [\"Fully Connected 2-Layer\"]\n",
    "\n",
    "for k in range(len(models)): \n",
    "    Dic_1[k+1] = [models[k], H1, H2, None, learning_rate, \"len(x)\", \n",
    "                  np.round(mean_train_error, decimals = 4), \n",
    "                  np.round(mean_test_error, decimals = 4),\n",
    "                  np.round(var_test_error, decimals = 4)]\n",
    "    \n",
    "df_1 = pd.DataFrame.from_dict(Dic_1, orient='index', columns=['Classifier', 'Hid_dim 1',\n",
    "                'Hid_dim 2', 'Drop Out p', 'Learning Rate', 'Batch Normaln', \n",
    "                 'Train Error', 'Test Error', 'Var_Error'])\n",
    "df_1"
   ]
  },
  {
   "cell_type": "markdown",
   "metadata": {},
   "source": [
    "# -------------------------------------------------------------------"
   ]
  },
  {
   "cell_type": "markdown",
   "metadata": {},
   "source": [
    "## Binary Classification"
   ]
  },
  {
   "cell_type": "code",
   "execution_count": 75,
   "metadata": {
    "scrolled": false
   },
   "outputs": [
    {
     "name": "stdout",
     "output_type": "stream",
     "text": [
      "0 0.7542658448219299\n",
      "500 0.5004701614379883\n",
      "1000 0.35352766513824463\n",
      "1500 0.1922881007194519\n",
      "2000 0.12765829265117645\n",
      "2500 0.09131522476673126\n",
      "3000 0.0691358670592308\n",
      "3500 0.054525572806596756\n"
     ]
    },
    {
     "data": {
      "image/png": "[encoded data removed]",
      "text/plain": [
       "<Figure size 432x288 with 1 Axes>"
      ]
     },
     "metadata": {
      "needs_background": "light"
     },
     "output_type": "display_data"
    }
   ],
   "source": [
    "Start_time = time.time()\n",
    "\n",
    "mean_train_error = 0\n",
    "mean_test_error = 0\n",
    "var_test_error = 0\n",
    "\n",
    "num_trials = 1\n",
    "learning_rate = 1e-3\n",
    "Num_updates = 4000\n",
    "losses = torch.zeros(num_trials, r-1, Num_updates)\n",
    "\n",
    "for s in range(num_trials):\n",
    "\n",
    "    error_train_list_all = []\n",
    "    error_test_list_all = []\n",
    "\n",
    "    Start_time_2 = time.time()\n",
    "\n",
    "    for i in range(r-1): \n",
    "        j = i+1\n",
    "\n",
    "        x = torch.cat((X_train[i], X_train[j]), 0).float()\n",
    "        y = torch.cat((y_train[i], \n",
    "                       torch.zeros(y_train[j].size(), dtype=torch.double)), 0).long()\n",
    "\n",
    "        N = len(x) # N is batch size\n",
    "        D_in = len(x[0]) # D_in is input dimension\n",
    "        H1 = 10 # H1 is first hidden dimension, \n",
    "        H2 = 5 # H2 is second hidden dimension, \n",
    "        D_out = 2 # D_out is output dimension\n",
    "        q = 0.25\n",
    "\n",
    "        model = torch.nn.Sequential(\n",
    "                                    torch.nn.Linear(D_in, H1),\n",
    "                                    #torch.nn.LeakyReLU(0.1),\n",
    "                                    torch.nn.Tanh(),\n",
    "                                    #torch.nn.ReLU(),\n",
    "                                    #torch.nn.Dropout(p=q),\n",
    "                                    torch.nn.Linear(H1, H2),\n",
    "                                    #torch.nn.LeakyReLU(0.1),\n",
    "                                    #torch.nn.ReLU(),\n",
    "                                    torch.nn.Tanh(),\n",
    "                                    #torch.nn.Dropout(p=q),\n",
    "                                    torch.nn.Linear(H2, D_out)\n",
    "                                    )\n",
    "\n",
    "        loss_fn = torch.nn.CrossEntropyLoss()\n",
    "        optimizer = torch.optim.Adam(model.parameters(), lr=learning_rate)\n",
    "        \n",
    "        for t in range(Num_updates):\n",
    "            y_pred = model(x) # of shape (N,D_out)\n",
    "            loss = loss_fn(y_pred, y)\n",
    "            losses[s, i, t] = loss\n",
    "\n",
    "            if i == 20:\n",
    "                if t % 500 == 0:\n",
    "                    print(t, loss.item())\n",
    "            \n",
    "            if (t+1) % 100 == 0:\n",
    "                optimizer.param_groups[0]['lr'] = 0.5 * learning_rate\n",
    "\n",
    "            optimizer.zero_grad()\n",
    "\n",
    "            loss.backward() # Backward pass\n",
    "\n",
    "            optimizer.step()  # Calling the step function on the Optimizer \n",
    "\n",
    "        X = torch.cat((X_test[i], X_test[j]), 0).float()\n",
    "        Y = torch.cat((y_test[i], torch.zeros(y_test[j].size(), \n",
    "                                              dtype=torch.double)), 0).long()\n",
    "        \n",
    "        Y_pred = model(X)\n",
    "        \n",
    "        error_train_list_all.append((torch.argmax(y_pred, 1) != y).sum().float()/len(y))\n",
    "        error_test_list_all.append((torch.argmax(Y_pred, 1) != Y).sum().float()/len(Y))\n",
    "\n",
    "    mean_train_error += np.mean(error_train_list_all)\n",
    "    mean_test_error += np.mean(error_test_list_all)\n",
    "    var_test_error += np.var(error_test_list_all)\n",
    "\n",
    "mean_train_error /= num_trials\n",
    "mean_test_error /= num_trials\n",
    "var_test_error /= num_trials\n",
    "\n",
    "plt.plot((torch.mean(losses[0], dim=0)).detach().numpy())\n",
    "plt.show()"
   ]
  },
  {
   "cell_type": "markdown",
   "metadata": {},
   "source": [
    "#### Old Distance, $|Q|=50$"
   ]
  },
  {
   "cell_type": "code",
   "execution_count": 78,
   "metadata": {},
   "outputs": [
    {
     "name": "stdout",
     "output_type": "stream",
     "text": [
      "|Q|=50, Old Distance, Number of Users:  41, Number of Trials =  1\n",
      "Activation = Tanh, Learning Decay = 0.8, Number of Updates =  4000\n"
     ]
    },
    {
     "data": {
      "text/html": [
       "<div>\n",
       "<style scoped>\n",
       "    .dataframe tbody tr th:only-of-type {\n",
       "        vertical-align: middle;\n",
       "    }\n",
       "\n",
       "    .dataframe tbody tr th {\n",
       "        vertical-align: top;\n",
       "    }\n",
       "\n",
       "    .dataframe thead th {\n",
       "        text-align: right;\n",
       "    }\n",
       "</style>\n",
       "<table border=\"1\" class=\"dataframe\">\n",
       "  <thead>\n",
       "    <tr style=\"text-align: right;\">\n",
       "      <th></th>\n",
       "      <th>Classifier</th>\n",
       "      <th>Hid_dim 1</th>\n",
       "      <th>Hid_dim 2</th>\n",
       "      <th>Drop Out p</th>\n",
       "      <th>Learning Rate</th>\n",
       "      <th>Batch Normaln</th>\n",
       "      <th>Train Error</th>\n",
       "      <th>Test Error</th>\n",
       "      <th>Var_Error</th>\n",
       "    </tr>\n",
       "  </thead>\n",
       "  <tbody>\n",
       "    <tr>\n",
       "      <td>1</td>\n",
       "      <td>Fully Connected 2-Layer</td>\n",
       "      <td>10</td>\n",
       "      <td>5</td>\n",
       "      <td>None</td>\n",
       "      <td>0.001</td>\n",
       "      <td>len(x)</td>\n",
       "      <td>0.0347</td>\n",
       "      <td>0.062</td>\n",
       "      <td>0.0015</td>\n",
       "    </tr>\n",
       "  </tbody>\n",
       "</table>\n",
       "</div>"
      ],
      "text/plain": [
       "                Classifier  Hid_dim 1  Hid_dim 2 Drop Out p  Learning Rate  \\\n",
       "1  Fully Connected 2-Layer         10          5       None          0.001   \n",
       "\n",
       "  Batch Normaln  Train Error  Test Error  Var_Error  \n",
       "1        len(x)       0.0347       0.062     0.0015  "
      ]
     },
     "execution_count": 78,
     "metadata": {},
     "output_type": "execute_result"
    }
   ],
   "source": [
    "print('|Q|=50,', 'Old Distance,', \"Number of Users: \", \"41,\", \n",
    "      'Number of Trials = ', num_trials)\n",
    "print(\"Activation = Tanh,\", 'Learning Decay = 0.8,', \"Number of Updates = \", Num_updates)\n",
    "Dic_1 = {}\n",
    "\n",
    "\n",
    "Dic_1[1] = [\"Fully Connected 2-Layer\", H1, H2, None, learning_rate, \"len(x)\", \n",
    "              np.round(mean_train_error, decimals = 4), \n",
    "              np.round(mean_test_error, decimals = 4),\n",
    "              np.round(var_test_error, decimals = 4)]\n",
    "    \n",
    "df_1 = pd.DataFrame.from_dict(Dic_1, orient='index', \n",
    "                              columns=['Classifier', 'Hid_dim 1', 'Hid_dim 2', 'Drop Out p', \n",
    "                                       'Learning Rate', 'Batch Normaln', \n",
    "                                       'Train Error', 'Test Error', 'Var_Error'])\n",
    "df_1"
   ]
  },
  {
   "cell_type": "markdown",
   "metadata": {},
   "source": [
    "#### New Distance, $|Q|=50$, $\\sigma=1000$"
   ]
  },
  {
   "cell_type": "code",
   "execution_count": 112,
   "metadata": {},
   "outputs": [
    {
     "name": "stdout",
     "output_type": "stream",
     "text": [
      "|Q|=20, New Distance, sigma=1000, Number of Users:  41, Number of Trials =  1\n",
      "Activation = LeakyReLU(0.1), Learning Decay = 0.8, Number of Updates =  1000\n"
     ]
    },
    {
     "data": {
      "text/html": [
       "<div>\n",
       "<style scoped>\n",
       "    .dataframe tbody tr th:only-of-type {\n",
       "        vertical-align: middle;\n",
       "    }\n",
       "\n",
       "    .dataframe tbody tr th {\n",
       "        vertical-align: top;\n",
       "    }\n",
       "\n",
       "    .dataframe thead th {\n",
       "        text-align: right;\n",
       "    }\n",
       "</style>\n",
       "<table border=\"1\" class=\"dataframe\">\n",
       "  <thead>\n",
       "    <tr style=\"text-align: right;\">\n",
       "      <th></th>\n",
       "      <th>Classifier</th>\n",
       "      <th>Hid_dim 1</th>\n",
       "      <th>Hid_dim 2</th>\n",
       "      <th>Drop Out p</th>\n",
       "      <th>Learning Rate</th>\n",
       "      <th>Batch Normaln</th>\n",
       "      <th>Train Error</th>\n",
       "      <th>Test Error</th>\n",
       "      <th>Var_Error</th>\n",
       "    </tr>\n",
       "  </thead>\n",
       "  <tbody>\n",
       "    <tr>\n",
       "      <td>1</td>\n",
       "      <td>Fully Connected 2-Layer</td>\n",
       "      <td>10</td>\n",
       "      <td>5</td>\n",
       "      <td>None</td>\n",
       "      <td>0.01</td>\n",
       "      <td>len(x)</td>\n",
       "      <td>0.1523</td>\n",
       "      <td>0.2846</td>\n",
       "      <td>0.0102</td>\n",
       "    </tr>\n",
       "  </tbody>\n",
       "</table>\n",
       "</div>"
      ],
      "text/plain": [
       "                Classifier  Hid_dim 1  Hid_dim 2 Drop Out p  Learning Rate  \\\n",
       "1  Fully Connected 2-Layer         10          5       None           0.01   \n",
       "\n",
       "  Batch Normaln  Train Error  Test Error  Var_Error  \n",
       "1        len(x)       0.1523      0.2846     0.0102  "
      ]
     },
     "execution_count": 112,
     "metadata": {},
     "output_type": "execute_result"
    }
   ],
   "source": [
    "print('|Q|=50,', 'New Distance,', 'sigma=1000,', \"Number of Users: \", \"41,\", \n",
    "      'Number of Trials = ', num_trials)\n",
    "print(\"Activation = LeakyReLU(0.1),\", 'Learning Decay = 0.8,', \"Number of Updates = \", Num_updates)\n",
    "Dic_1 = {}\n",
    "\n",
    "\n",
    "Dic_1[1] = [\"Fully Connected 2-Layer\", H1, H2, None, learning_rate, \"len(x)\", \n",
    "              np.round(mean_train_error, decimals = 4), \n",
    "              np.round(mean_test_error, decimals = 4),\n",
    "              np.round(var_test_error, decimals = 4)]\n",
    "    \n",
    "df_1 = pd.DataFrame.from_dict(Dic_1, orient='index', \n",
    "                              columns=['Classifier', 'Hid_dim 1', 'Hid_dim 2', 'Drop Out p', \n",
    "                                       'Learning Rate', 'Batch Normaln', \n",
    "                                       'Train Error', 'Test Error', 'Var_Error'])\n",
    "df_1"
   ]
  },
  {
   "cell_type": "markdown",
   "metadata": {},
   "source": [
    "#### New Distance, $|Q|=50$, $\\sigma=0.25$"
   ]
  },
  {
   "cell_type": "code",
   "execution_count": 69,
   "metadata": {},
   "outputs": [
    {
     "name": "stdout",
     "output_type": "stream",
     "text": [
      "|Q|=20, New Distance, sigma=0.25, Number of Users:  41, Number of Trials =  1\n",
      "Activation = Tanh, Learning Decay = 0.8, Number of Updates =  100\n"
     ]
    },
    {
     "data": {
      "text/html": [
       "<div>\n",
       "<style scoped>\n",
       "    .dataframe tbody tr th:only-of-type {\n",
       "        vertical-align: middle;\n",
       "    }\n",
       "\n",
       "    .dataframe tbody tr th {\n",
       "        vertical-align: top;\n",
       "    }\n",
       "\n",
       "    .dataframe thead th {\n",
       "        text-align: right;\n",
       "    }\n",
       "</style>\n",
       "<table border=\"1\" class=\"dataframe\">\n",
       "  <thead>\n",
       "    <tr style=\"text-align: right;\">\n",
       "      <th></th>\n",
       "      <th>Classifier</th>\n",
       "      <th>Hid_dim 1</th>\n",
       "      <th>Hid_dim 2</th>\n",
       "      <th>Drop Out p</th>\n",
       "      <th>Learning Rate</th>\n",
       "      <th>Batch Normaln</th>\n",
       "      <th>Train Error</th>\n",
       "      <th>Test Error</th>\n",
       "      <th>Var_Error</th>\n",
       "    </tr>\n",
       "  </thead>\n",
       "  <tbody>\n",
       "    <tr>\n",
       "      <td>1</td>\n",
       "      <td>Fully Connected 2-Layer</td>\n",
       "      <td>100</td>\n",
       "      <td>10</td>\n",
       "      <td>None</td>\n",
       "      <td>0.01</td>\n",
       "      <td>len(x)</td>\n",
       "      <td>0.0087</td>\n",
       "      <td>0.2008</td>\n",
       "      <td>0.0059</td>\n",
       "    </tr>\n",
       "  </tbody>\n",
       "</table>\n",
       "</div>"
      ],
      "text/plain": [
       "                Classifier  Hid_dim 1  Hid_dim 2 Drop Out p  Learning Rate  \\\n",
       "1  Fully Connected 2-Layer        100         10       None           0.01   \n",
       "\n",
       "  Batch Normaln  Train Error  Test Error  Var_Error  \n",
       "1        len(x)       0.0087      0.2008     0.0059  "
      ]
     },
     "execution_count": 69,
     "metadata": {},
     "output_type": "execute_result"
    }
   ],
   "source": [
    "print('|Q|=50,', 'New Distance,', 'sigma=0.25,', \"Number of Users: \", \"41,\", \n",
    "      'Number of Trials = ', num_trials)\n",
    "print(\"Activation = Tanh,\", 'Learning Decay = 0.8,', \"Number of Updates = \", Num_updates)\n",
    "Dic_1 = {}\n",
    "\n",
    "\n",
    "Dic_1[1] = [\"Fully Connected 2-Layer\", H1, H2, None, learning_rate, \"len(x)\", \n",
    "              np.round(mean_train_error, decimals = 4), \n",
    "              np.round(mean_test_error, decimals = 4),\n",
    "              np.round(var_test_error, decimals = 4)]\n",
    "    \n",
    "df_1 = pd.DataFrame.from_dict(Dic_1, orient='index', \n",
    "                              columns=['Classifier', 'Hid_dim 1', 'Hid_dim 2', 'Drop Out p', \n",
    "                                       'Learning Rate', 'Batch Normaln', \n",
    "                                       'Train Error', 'Test Error', 'Var_Error'])\n",
    "df_1"
   ]
  },
  {
   "cell_type": "markdown",
   "metadata": {},
   "source": [
    "#### New Distance, $|Q|=20$, $\\sigma=0.3$"
   ]
  },
  {
   "cell_type": "code",
   "execution_count": 39,
   "metadata": {},
   "outputs": [
    {
     "name": "stdout",
     "output_type": "stream",
     "text": [
      "|Q|=20, New Distance, sigma=0.3, Number of Users:  41, Number of Trials =  1\n",
      "Activation = Tanh, Learning Decay = 0.8, Number of Updates =  1000\n"
     ]
    },
    {
     "data": {
      "text/html": [
       "<div>\n",
       "<style scoped>\n",
       "    .dataframe tbody tr th:only-of-type {\n",
       "        vertical-align: middle;\n",
       "    }\n",
       "\n",
       "    .dataframe tbody tr th {\n",
       "        vertical-align: top;\n",
       "    }\n",
       "\n",
       "    .dataframe thead th {\n",
       "        text-align: right;\n",
       "    }\n",
       "</style>\n",
       "<table border=\"1\" class=\"dataframe\">\n",
       "  <thead>\n",
       "    <tr style=\"text-align: right;\">\n",
       "      <th></th>\n",
       "      <th>Classifier</th>\n",
       "      <th>Hid_dim 1</th>\n",
       "      <th>Hid_dim 2</th>\n",
       "      <th>Drop Out p</th>\n",
       "      <th>Learning Rate</th>\n",
       "      <th>Batch Normaln</th>\n",
       "      <th>Train Error</th>\n",
       "      <th>Test Error</th>\n",
       "      <th>Var_Error</th>\n",
       "    </tr>\n",
       "  </thead>\n",
       "  <tbody>\n",
       "    <tr>\n",
       "      <td>1</td>\n",
       "      <td>Fully Connected 2-Layer</td>\n",
       "      <td>10</td>\n",
       "      <td>20</td>\n",
       "      <td>None</td>\n",
       "      <td>0.05</td>\n",
       "      <td>len(x)</td>\n",
       "      <td>0.0675</td>\n",
       "      <td>0.1844</td>\n",
       "      <td>0.0061</td>\n",
       "    </tr>\n",
       "  </tbody>\n",
       "</table>\n",
       "</div>"
      ],
      "text/plain": [
       "                Classifier  Hid_dim 1  Hid_dim 2 Drop Out p  Learning Rate  \\\n",
       "1  Fully Connected 2-Layer         10         20       None           0.05   \n",
       "\n",
       "  Batch Normaln  Train Error  Test Error  Var_Error  \n",
       "1        len(x)       0.0675      0.1844     0.0061  "
      ]
     },
     "execution_count": 39,
     "metadata": {},
     "output_type": "execute_result"
    }
   ],
   "source": [
    "print('|Q|=20,', 'New Distance,', 'sigma=0.3,', \"Number of Users: \", \"41,\", \n",
    "      'Number of Trials = ', num_trials)\n",
    "print(\"Activation = Tanh,\", 'Learning Decay = 0.8,', \"Number of Updates = \", Num_updates)\n",
    "Dic_1 = {}\n",
    "\n",
    "\n",
    "Dic_1[1] = [\"Fully Connected 2-Layer\", H1, H2, None, learning_rate, \"len(x)\", \n",
    "              np.round(mean_train_error, decimals = 4), \n",
    "              np.round(mean_test_error, decimals = 4),\n",
    "              np.round(var_test_error, decimals = 4)]\n",
    "    \n",
    "df_1 = pd.DataFrame.from_dict(Dic_1, orient='index', \n",
    "                              columns=['Classifier', 'Hid_dim 1', 'Hid_dim 2', 'Drop Out p', \n",
    "                                       'Learning Rate', 'Batch Normaln', \n",
    "                                       'Train Error', 'Test Error', 'Var_Error'])\n",
    "df_1"
   ]
  },
  {
   "cell_type": "markdown",
   "metadata": {},
   "source": [
    "#### Old Distance, $|Q|=20$"
   ]
  },
  {
   "cell_type": "code",
   "execution_count": 15,
   "metadata": {},
   "outputs": [
    {
     "name": "stdout",
     "output_type": "stream",
     "text": [
      "|Q|=20, Old Distance, Number of Users:  41, Number of Trials =  1\n",
      "Activation = Tanh, Learning Decay = 0.8, Number of Updates =  20000\n"
     ]
    },
    {
     "data": {
      "text/html": [
       "<div>\n",
       "<style scoped>\n",
       "    .dataframe tbody tr th:only-of-type {\n",
       "        vertical-align: middle;\n",
       "    }\n",
       "\n",
       "    .dataframe tbody tr th {\n",
       "        vertical-align: top;\n",
       "    }\n",
       "\n",
       "    .dataframe thead th {\n",
       "        text-align: right;\n",
       "    }\n",
       "</style>\n",
       "<table border=\"1\" class=\"dataframe\">\n",
       "  <thead>\n",
       "    <tr style=\"text-align: right;\">\n",
       "      <th></th>\n",
       "      <th>Classifier</th>\n",
       "      <th>Hid_dim 1</th>\n",
       "      <th>Hid_dim 2</th>\n",
       "      <th>Drop Out p</th>\n",
       "      <th>Learning Rate</th>\n",
       "      <th>Batch Normaln</th>\n",
       "      <th>Train Error</th>\n",
       "      <th>Test Error</th>\n",
       "      <th>Var_Error</th>\n",
       "    </tr>\n",
       "  </thead>\n",
       "  <tbody>\n",
       "    <tr>\n",
       "      <td>1</td>\n",
       "      <td>Fully Connected 2-Layer</td>\n",
       "      <td>10</td>\n",
       "      <td>5</td>\n",
       "      <td>None</td>\n",
       "      <td>0.001</td>\n",
       "      <td>len(x)</td>\n",
       "      <td>0.0427</td>\n",
       "      <td>0.0776</td>\n",
       "      <td>0.0022</td>\n",
       "    </tr>\n",
       "  </tbody>\n",
       "</table>\n",
       "</div>"
      ],
      "text/plain": [
       "                Classifier  Hid_dim 1  Hid_dim 2 Drop Out p  Learning Rate  \\\n",
       "1  Fully Connected 2-Layer         10          5       None          0.001   \n",
       "\n",
       "  Batch Normaln  Train Error  Test Error  Var_Error  \n",
       "1        len(x)       0.0427      0.0776     0.0022  "
      ]
     },
     "execution_count": 15,
     "metadata": {},
     "output_type": "execute_result"
    }
   ],
   "source": [
    "print('|Q|=20,', 'Old Distance,', \"Number of Users: \", \"41,\", \n",
    "      'Number of Trials = ', num_trials)\n",
    "print(\"Activation = Tanh,\", 'Learning Decay = 0.8,', \"Number of Updates = \", Num_updates)\n",
    "Dic_1 = {}\n",
    "\n",
    "models = [\"Fully Connected 2-Layer\"]\n",
    "\n",
    "for k in range(len(models)): \n",
    "    Dic_1[k+1] = [models[k], H1, H2, None, learning_rate, \"len(x)\", \n",
    "                  np.round(mean_train_error, decimals = 4), \n",
    "                  np.round(mean_test_error, decimals = 4),\n",
    "                  np.round(var_test_error, decimals = 4)]\n",
    "    \n",
    "df_1 = pd.DataFrame.from_dict(Dic_1, orient='index', columns=['Classifier', 'Hid_dim 1',\n",
    "                'Hid_dim 2', 'Drop Out p', 'Learning Rate', 'Batch Normaln', \n",
    "                 'Train Error', 'Test Error', 'Var_Error'])\n",
    "df_1"
   ]
  },
  {
   "cell_type": "code",
   "execution_count": null,
   "metadata": {},
   "outputs": [],
   "source": []
  }
 ],
 "metadata": {
  "colab": {
   "collapsed_sections": [],
   "name": "DL_project_classifiers.ipynb",
   "provenance": []
  },
  "kernelspec": {
   "display_name": "Python 3",
   "language": "python",
   "name": "python3"
  },
  "language_info": {
   "codemirror_mode": {
    "name": "ipython",
    "version": 3
   },
   "file_extension": ".py",
   "mimetype": "text/x-python",
   "name": "python",
   "nbconvert_exporter": "python",
   "pygments_lexer": "ipython3",
   "version": "3.7.4"
  }
 },
 "nbformat": 4,
 "nbformat_minor": 1
}
