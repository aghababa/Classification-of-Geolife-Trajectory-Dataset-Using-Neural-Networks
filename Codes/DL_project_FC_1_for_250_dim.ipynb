{
  "nbformat": 4,
  "nbformat_minor": 0,
  "metadata": {
    "colab": {
      "name": "DL_project_FC_1_for_250-dim.ipynb",
      "provenance": [],
      "collapsed_sections": []
    },
    "kernelspec": {
      "display_name": "Python 3",
      "language": "python",
      "name": "python3"
    },
    "language_info": {
      "codemirror_mode": {
        "name": "ipython",
        "version": 3
      },
      "file_extension": ".py",
      "mimetype": "text/x-python",
      "name": "python",
      "nbconvert_exporter": "python",
      "pygments_lexer": "ipython3",
      "version": "3.7.4"
    }
  },
  "cells": [
    {
      "cell_type": "code",
      "metadata": {
        "id": "V-xJxlvIlCjB",
        "scrolled": true
      },
      "source": [
        "import numpy as np\n",
        "import time\n",
        "import math\n",
        "import random\n",
        "import glob\n",
        "from scipy import linalg as LA\n",
        "import pandas as pd\n",
        "from sklearn.model_selection import train_test_split\n",
        "from sklearn import metrics\n",
        "import torch\n",
        "import torch.nn as nn\n",
        "import torch.optim as optim\n",
        "from torch.utils.data import sampler\n",
        "import torchvision.transforms as T\n",
        "\n",
        "import matplotlib.pyplot as plt\n",
        "%matplotlib inline"
      ],
      "execution_count": null,
      "outputs": []
    },
    {
      "cell_type": "code",
      "metadata": {
        "colab": {
          "base_uri": "https://localhost:8080/"
        },
        "id": "l3Le5QRr73E2",
        "outputId": "6d7d9958-9408-4ec5-a5e3-de33c7e0a142"
      },
      "source": [
        "from google.colab import drive\n",
        "drive.mount(\"/content/gdrive\")"
      ],
      "execution_count": null,
      "outputs": [
        {
          "output_type": "stream",
          "text": [
            "Drive already mounted at /content/gdrive; to attempt to forcibly remount, call drive.mount(\"/content/gdrive\", force_remount=True).\n"
          ],
          "name": "stdout"
        }
      ]
    },
    {
      "cell_type": "code",
      "metadata": {
        "id": "3Baay7UJlCjG"
      },
      "source": [
        "float = np.vectorize(float)\n",
        "\n",
        "def read_file(file_name):\n",
        "    data = []\n",
        "    with open(file_name, \"r\") as f:\n",
        "        for line in f:\n",
        "            item = line.strip().split(\",\")\n",
        "            data.append(float(item))\n",
        "    return data"
      ],
      "execution_count": null,
      "outputs": []
    },
    {
      "cell_type": "code",
      "metadata": {
        "id": "XD6GckUylCjI"
      },
      "source": [
        "#I = glob.glob('/content/gdrive/My Drive/Deep Learning Project/20-dim data (41) representation sigma=0.3/*.csv', recursive=True)\n",
        "#I = glob.glob('/content/gdrive/My Drive/Deep Learning Project/20-dim data (41) representation old distamce/*.csv', recursive=True)\n",
        "#I = glob.glob('/content/gdrive/My Drive/Deep Learning Project/50-dim data (41) representation sigma=0.25/*.csv', recursive=True)\n",
        "#I = glob.glob('/content/gdrive/My Drive/Deep Learning Project/50-dim data (41) representation sigma=1000/*.csv', recursive=True)\n",
        "#I = glob.glob('/content/gdrive/My Drive/Deep Learning Project/50-dim data (41) representation old distamce/*.csv', recursive=True)\n",
        "#I = glob.glob('/content/gdrive/My Drive/Deep Learning Project/250-dim data (41) representation sigma=1/*.csv', recursive=True)\n",
        "I = glob.glob('/content/gdrive/My Drive/Deep Learning Project/250-dim data (41) representation old distamce/*.csv', recursive=True)\n"
      ],
      "execution_count": null,
      "outputs": []
    },
    {
      "cell_type": "code",
      "metadata": {
        "colab": {
          "base_uri": "https://localhost:8080/"
        },
        "id": "BAaEbqnS7oiH",
        "outputId": "7ce2e08d-0576-4091-d64c-c0d5f43ba630"
      },
      "source": [
        "r = len(I)\n",
        "r"
      ],
      "execution_count": null,
      "outputs": [
        {
          "output_type": "execute_result",
          "data": {
            "text/plain": [
              "41"
            ]
          },
          "metadata": {
            "tags": []
          },
          "execution_count": 5
        }
      ]
    },
    {
      "cell_type": "code",
      "metadata": {
        "id": "J_yTOhcHSOdX"
      },
      "source": [
        "data_embed = [0] * r\n",
        "\n",
        "for i in range(r):\n",
        "    data_embed[i] = [len(np.array(read_file(I[i]))), np.array(read_file(I[i]))]\n",
        "\n",
        "data_embed = np.array(data_embed)\n",
        "#data_embed = data_embed[data_embed[:,0].argsort()]"
      ],
      "execution_count": null,
      "outputs": []
    },
    {
      "cell_type": "code",
      "metadata": {
        "id": "abqsEqTalCjK"
      },
      "source": [
        "X_train = [0] * r\n",
        "X_test = [0] * r\n",
        "y_train = [0] * r\n",
        "y_test = [0] * r\n",
        "\n",
        "for i in range(r):\n",
        "    X_train[i], X_test[i], y_train[i], y_test[i] = train_test_split(np.array(data_embed[i][1]), \n",
        "                                                                np.ones(len(data_embed[i][1])), \n",
        "                                                                test_size=0.3, \n",
        "                                                                random_state=109)"
      ],
      "execution_count": null,
      "outputs": []
    },
    {
      "cell_type": "code",
      "metadata": {
        "id": "sGb2oEWw7oiI"
      },
      "source": [
        "for i in range(r):\n",
        "    X_train[i] = torch.tensor(X_train[i])\n",
        "    X_test[i] = torch.tensor(X_test[i])\n",
        "    y_train[i] = torch.tensor(y_train[i])\n",
        "    y_test[i] = torch.tensor(y_test[i])"
      ],
      "execution_count": null,
      "outputs": []
    },
    {
      "cell_type": "code",
      "metadata": {
        "colab": {
          "base_uri": "https://localhost:8080/"
        },
        "id": "nCueD0Qo7oiI",
        "outputId": "7f3273b3-d3d3-4911-db57-dc6be95a1300"
      },
      "source": [
        "X_train[0][0]"
      ],
      "execution_count": null,
      "outputs": [
        {
          "output_type": "execute_result",
          "data": {
            "text/plain": [
              "tensor([7.0227e+00, 6.4639e+00, 5.9184e+00, 5.3902e+00, 4.8850e+00, 4.4105e+00,\n",
              "        3.9778e+00, 3.6020e+00, 3.3025e+00, 3.1017e+00, 3.0192e+00, 3.0646e+00,\n",
              "        3.2326e+00, 3.5055e+00, 3.8611e+00, 4.2790e+00, 4.7426e+00, 6.7865e+00,\n",
              "        6.2065e+00, 5.6361e+00, 5.0787e+00, 4.5388e+00, 4.0237e+00, 3.5441e+00,\n",
              "        3.1165e+00, 2.7650e+00, 2.5217e+00, 2.4196e+00, 2.4760e+00, 2.6811e+00,\n",
              "        3.0045e+00, 3.4127e+00, 3.8791e+00, 4.3848e+00, 6.5965e+00, 5.9982e+00,\n",
              "        5.4059e+00, 4.8219e+00, 4.2496e+00, 3.6944e+00, 3.1653e+00, 2.6779e+00,\n",
              "        2.2592e+00, 1.9539e+00, 1.8201e+00, 1.8945e+00, 2.1556e+00, 2.5467e+00,\n",
              "        3.0173e+00, 3.5358e+00, 4.0842e+00, 6.4570e+00, 5.8444e+00, 5.2347e+00,\n",
              "        4.6292e+00, 4.0296e+00, 3.4390e+00, 2.8631e+00, 2.3128e+00, 1.8117e+00,\n",
              "        1.4129e+00, 1.2213e+00, 1.3296e+00, 1.6809e+00, 2.1592e+00, 2.6979e+00,\n",
              "        3.2674e+00, 3.8542e+00, 6.3705e+00, 5.7489e+00, 5.1281e+00, 4.5085e+00,\n",
              "        3.8904e+00, 3.2749e+00, 2.6637e+00, 2.0609e+00, 1.4766e+00, 9.4595e-01,\n",
              "        6.2456e-01, 8.1631e-01, 1.3120e+00, 1.8859e+00, 2.4844e+00, 3.0933e+00,\n",
              "        3.7077e+00, 6.3394e+00, 5.7144e+00, 5.0894e+00, 4.4644e+00, 3.8394e+00,\n",
              "        3.2144e+00, 2.5895e+00, 1.9645e+00, 1.3396e+00, 7.1492e-01, 9.2808e-02,\n",
              "        5.3039e-01, 1.1551e+00, 1.7800e+00, 2.4050e+00, 3.0300e+00, 3.6549e+00,\n",
              "        6.3649e+00, 5.7427e+00, 5.1212e+00, 4.5006e+00, 3.8814e+00, 3.2645e+00,\n",
              "        2.6514e+00, 2.0454e+00, 1.4557e+00, 9.1401e-01, 5.7721e-01, 7.8127e-01,\n",
              "        1.2906e+00, 1.8708e+00, 2.4729e+00, 3.0842e+00, 3.7000e+00, 6.4464e+00,\n",
              "        5.8329e+00, 5.2221e+00, 4.6151e+00, 4.0137e+00, 3.4207e+00, 2.8415e+00,\n",
              "        2.2865e+00, 1.7785e+00, 1.3710e+00, 1.1737e+00, 1.2863e+00, 1.6471e+00,\n",
              "        2.1333e+00, 2.6770e+00, 3.2501e+00, 3.8394e+00, 6.5818e+00, 5.9822e+00,\n",
              "        5.3884e+00, 4.8025e+00, 4.2278e+00, 3.6695e+00, 3.1366e+00, 2.6443e+00,\n",
              "        2.2198e+00, 1.9089e+00, 1.7725e+00, 1.8490e+00, 2.1159e+00, 2.5133e+00,\n",
              "        2.9895e+00, 3.5120e+00, 4.0636e+00, 6.7679e+00, 6.1864e+00, 5.6142e+00,\n",
              "        5.0545e+00, 4.5120e+00, 3.9937e+00, 3.5104e+00, 3.0784e+00, 2.7225e+00,\n",
              "        2.4755e+00, 2.3719e+00, 2.4296e+00, 2.6384e+00, 2.9666e+00, 3.3796e+00,\n",
              "        3.8501e+00, 4.3593e+00, 7.0007e+00, 6.4402e+00, 5.8927e+00, 5.3621e+00,\n",
              "        4.8541e+00, 4.3765e+00, 3.9404e+00, 3.5610e+00, 3.2582e+00, 3.0549e+00,\n",
              "        2.9715e+00, 3.0178e+00, 3.1883e+00, 3.4648e+00, 3.8244e+00, 4.2459e+00,\n",
              "        4.7129e+00, 2.9890e+02, 7.4664e+01, 4.6626e+02, 3.6556e+02, 1.0106e+02,\n",
              "        8.1774e+01, 1.0620e+01, 1.4550e+01, 8.6549e+00, 1.1339e+01, 6.1655e+00,\n",
              "        6.1186e+00, 1.1634e+02, 1.5671e-01, 7.6579e-02, 1.0465e-01, 1.4141e-01,\n",
              "        1.7711e-01, 2.0979e-01, 2.0633e-01, 1.9011e-01, 2.1139e-01, 1.1458e-01,\n",
              "        3.8458e-02, 2.4806e-02, 8.2700e-02, 1.2448e-01, 1.0251e-01, 5.0011e-02,\n",
              "        3.3504e-01, 3.5840e-01, 3.2977e-01, 3.9313e-01, 3.4420e-01, 2.8032e-01,\n",
              "        3.2419e-01, 2.4276e-01, 3.7204e-01, 2.9687e-01, 4.4961e-01, 4.3487e-01,\n",
              "        6.3954e-01, 7.0986e-01, 8.0223e-01, 6.9994e-01, 7.1336e-01, 6.6738e-01,\n",
              "        6.3400e-01, 2.9345e-01, 2.8800e-01, 5.7916e-01, 6.8748e-01, 9.7445e-01,\n",
              "        1.3207e+00, 1.4521e+00, 1.6898e+00, 5.0067e-01, 6.0640e-01, 1.2042e+00,\n",
              "        1.2716e+00, 4.3339e-01, 4.2402e-01, 7.0819e-01], dtype=torch.float64)"
            ]
          },
          "metadata": {
            "tags": []
          },
          "execution_count": 10
        }
      ]
    },
    {
      "cell_type": "code",
      "metadata": {
        "colab": {
          "base_uri": "https://localhost:8080/"
        },
        "id": "ZyMtaT8yS1Li",
        "outputId": "3e0b0ba3-1cbc-4421-86f8-d281b5e57bc2"
      },
      "source": [
        "data_embed[:,0]"
      ],
      "execution_count": null,
      "outputs": [
        {
          "output_type": "execute_result",
          "data": {
            "text/plain": [
              "array([389, 275, 100, 108, 318, 167, 196, 150, 196, 394, 295, 160, 747,\n",
              "       173, 148, 146, 144, 226, 678, 260, 423, 215, 182, 407, 133, 120,\n",
              "       101, 112, 2124, 147, 207, 150, 113, 106, 544, 154, 382, 2014, 371,\n",
              "       583, 800], dtype=object)"
            ]
          },
          "metadata": {
            "tags": []
          },
          "execution_count": 11
        }
      ]
    },
    {
      "cell_type": "markdown",
      "metadata": {
        "id": "478uGshX7oiL"
      },
      "source": [
        "# 1-Layer Fully Connected Network"
      ]
    },
    {
      "cell_type": "markdown",
      "metadata": {
        "id": "Gq1RmfFJf34j"
      },
      "source": [
        "## 10-Class Classification"
      ]
    },
    {
      "cell_type": "code",
      "metadata": {
        "id": "Zbx2VCVif0fT"
      },
      "source": [
        "Start_time = time.time()\n",
        "\n",
        "mean_train_error = 0\n",
        "mean_test_error = 0\n",
        "var_test_error = 0\n",
        "\n",
        "lr_decay = 0.8\n",
        "num_trials = 1\n",
        "learning_rate = 1e-3\n",
        "Num_updates = 20000\n",
        "losses = torch.zeros(num_trials, r-9, Num_updates)\n",
        "\n",
        "for s in range(num_trials):\n",
        "\n",
        "    error_train_list_all = []\n",
        "    error_test_list_all = []\n",
        "\n",
        "    Start_time_2 = time.time()\n",
        "\n",
        "    for i in range(r-9): \n",
        "\n",
        "        x = torch.cat((X_train[i], X_train[i+1], X_train[i+2], X_train[i+3], \n",
        "                       X_train[i+4],X_train[i+5], X_train[i+6], X_train[i+7],\n",
        "                       X_train[i+8], X_train[i+9]), 0).float()\n",
        "        y = torch.cat((0 * y_train[i], y_train[i+1], 2 * y_train[i+2], 3 * y_train[i+3],\n",
        "                       4 * y_train[i+4], 5 * y_train[i+5], 6 * y_train[i+6], 7* y_train[i+7],\n",
        "                       8 * y_train[i+8], 9 * y_train[i+9]), 0).long()\n",
        "\n",
        "        D_in = len(x[0]) # D_in is input dimension\n",
        "        H = 200 # H is the dimension of hidden layer\n",
        "        D_out = 10 # D_out is output dimension\n",
        "\n",
        "        model = torch.nn.Sequential(\n",
        "                                    torch.nn.Linear(D_in, H),\n",
        "                                    torch.nn.LeakyReLU(0.1),\n",
        "                                    #torch.nn.ReLU(),\n",
        "                                    #torch.nn.Tanh(),\n",
        "                                    #torch.nn.Dropout(p=q),\n",
        "                                    torch.nn.Linear(H, D_out)\n",
        "                                    )\n",
        "\n",
        "        loss_fn = torch.nn.CrossEntropyLoss()\n",
        "        optimizer = torch.optim.Adam(model.parameters(), lr=learning_rate)\n",
        "        \n",
        "        for t in range(Num_updates):\n",
        "            y_pred = model(x) # of shape (N,D_out)\n",
        "            #print(torch.argmax(y_pred, 1))\n",
        "            loss = loss_fn(y_pred, y)\n",
        "            losses[s, i, t] = loss\n",
        "\n",
        "            #if t % 1000 == 0:\n",
        "            #    print(t, loss.item())\n",
        "                \n",
        "            if (t+1) % 1000 == 0:\n",
        "                optimizer.param_groups[0]['lr'] = lr_decay * learning_rate\n",
        "\n",
        "            optimizer.zero_grad()\n",
        "\n",
        "            loss.backward() # Backward pass\n",
        "\n",
        "            optimizer.step()  # Calling the step function on the Optimizer \n",
        "\n",
        "        X = torch.cat((X_test[i], X_test[i+1], X_test[i+2], X_test[i+3], \n",
        "                       X_test[i+4],X_test[i+5], X_test[i+6], X_test[i+7],\n",
        "                       X_test[i+8], X_test[i+9]), 0).float()\n",
        "        Y = torch.cat((0 * y_test[i], y_test[i+1], 2 * y_test[i+2], 3 * y_test[i+3],\n",
        "                       4 * y_test[i+4], 5 * y_test[i+5], 6 * y_test[i+6], 7* y_test[i+7],\n",
        "                       8 * y_test[i+8], 9 * y_test[i+9]), 0).long()\n",
        "        \n",
        "        Y_pred = model(X)\n",
        "        \n",
        "        error_train_list_all.append((torch.argmax(y_pred, 1) != y).sum().float()/len(y))\n",
        "        error_test_list_all.append((torch.argmax(Y_pred, 1) != Y).sum().float()/len(Y))\n",
        "\n",
        "    mean_train_error += np.mean(error_train_list_all)\n",
        "    mean_test_error += np.mean(error_test_list_all)\n",
        "    var_test_error += np.var(error_test_list_all)\n",
        "\n",
        "mean_train_error /= num_trials\n",
        "mean_test_error /= num_trials\n",
        "var_test_error /= num_trials\n",
        "\n",
        "plt.plot((torch.mean(losses[0], dim=0)).detach().numpy())\n",
        "plt.show()"
      ],
      "execution_count": null,
      "outputs": []
    },
    {
      "cell_type": "code",
      "metadata": {
        "id": "Jv8zy2Myq1nQ",
        "colab": {
          "base_uri": "https://localhost:8080/"
        },
        "outputId": "d7e82810-9c7d-478a-d127-9c07a2d3f559"
      },
      "source": [
        "print('|Q|=250,', 'Old Distance,', \"Number of Users: \", \"41,\", \n",
        "      'Number of Trials = ', num_trials)\n",
        "print(\"Activation function: LeakyReLU(0.01)\", \"Number of Updates = \", Num_updates)\n",
        "Dic_1 = {}\n",
        "\n",
        "Dic_1[1] = [\"FC 1-Layer\", H, None, learning_rate, \"len(x)\", \n",
        "              np.round(mean_train_error, decimals = 4), \n",
        "              np.round(mean_test_error, decimals = 4),\n",
        "              np.round(var_test_error, decimals = 4)]\n",
        "    \n",
        "df_1 = pd.DataFrame.from_dict(Dic_1, \n",
        "                              orient='index', \n",
        "                              columns=['Classifier', 'Hid_dim', 'Drop Out p', \n",
        "                                       'L_Rate', 'Batch_Normaln', 'Train Error',\n",
        "                                       'Test Error', 'Var_Error'])\n",
        "df_1"
      ],
      "execution_count": null,
      "outputs": [
        {
          "output_type": "stream",
          "text": [
            "|Q|=250, Old Distance, Number of Users:  41, Number of Trials =  1\n",
            "Activation function: LeakyReLU(0.01) Number of Updates =  20000\n"
          ],
          "name": "stdout"
        },
        {
          "output_type": "execute_result",
          "data": {
            "text/html": [
              "<div>\n",
              "<style scoped>\n",
              "    .dataframe tbody tr th:only-of-type {\n",
              "        vertical-align: middle;\n",
              "    }\n",
              "\n",
              "    .dataframe tbody tr th {\n",
              "        vertical-align: top;\n",
              "    }\n",
              "\n",
              "    .dataframe thead th {\n",
              "        text-align: right;\n",
              "    }\n",
              "</style>\n",
              "<table border=\"1\" class=\"dataframe\">\n",
              "  <thead>\n",
              "    <tr style=\"text-align: right;\">\n",
              "      <th></th>\n",
              "      <th>Classifier</th>\n",
              "      <th>Hid_dim</th>\n",
              "      <th>Drop Out p</th>\n",
              "      <th>L_Rate</th>\n",
              "      <th>Batch_Normaln</th>\n",
              "      <th>Train Error</th>\n",
              "      <th>Test Error</th>\n",
              "      <th>Var_Error</th>\n",
              "    </tr>\n",
              "  </thead>\n",
              "  <tbody>\n",
              "    <tr>\n",
              "      <th>1</th>\n",
              "      <td>FC 1-Layer</td>\n",
              "      <td>200</td>\n",
              "      <td>None</td>\n",
              "      <td>0.001</td>\n",
              "      <td>len(x)</td>\n",
              "      <td>0.3658</td>\n",
              "      <td>0.3816</td>\n",
              "      <td>0.0073</td>\n",
              "    </tr>\n",
              "  </tbody>\n",
              "</table>\n",
              "</div>"
            ],
            "text/plain": [
              "   Classifier  Hid_dim Drop Out p  ...  Train Error Test Error  Var_Error\n",
              "1  FC 1-Layer      200       None  ...       0.3658     0.3816     0.0073\n",
              "\n",
              "[1 rows x 8 columns]"
            ]
          },
          "metadata": {
            "tags": []
          },
          "execution_count": 14
        }
      ]
    },
    {
      "cell_type": "markdown",
      "metadata": {
        "id": "jvc6wAe2gQXf"
      },
      "source": [
        "## New Distance, $|Q|=250$, $\\sigma=1$"
      ]
    },
    {
      "cell_type": "code",
      "metadata": {
        "colab": {
          "base_uri": "https://localhost:8080/",
          "height": 110
        },
        "id": "58hPp6vEgDOX",
        "outputId": "048dcbb2-a767-4d67-8035-02b959c99ad9"
      },
      "source": [
        "print('|Q|=250,', 'New Distance,', 'sigma=1', \"Number of Users: \", \"41,\", \n",
        "      'Number of Trials = ', num_trials)\n",
        "print(\"Activation function: LeakyReLU(0.01)\", \"Number of Updates = \", Num_updates)\n",
        "Dic_1 = {}\n",
        "\n",
        "Dic_1[1] = [\"FC 1-Layer\", H, None, learning_rate, \"len(x)\", \n",
        "              np.round(mean_train_error, decimals = 4), \n",
        "              np.round(mean_test_error, decimals = 4),\n",
        "              np.round(var_test_error, decimals = 4)]\n",
        "    \n",
        "df_1 = pd.DataFrame.from_dict(Dic_1, \n",
        "                              orient='index', \n",
        "                              columns=['Classifier', 'Hid_dim', 'Drop Out p', \n",
        "                                       'L_Rate', 'Batch_Normaln', 'Train Error',\n",
        "                                       'Test Error', 'Var_Error'])\n",
        "df_1"
      ],
      "execution_count": null,
      "outputs": [
        {
          "output_type": "stream",
          "text": [
            "|Q|=250, New Distance, sigma=1 Number of Users:  41, Number of Trials =  1\n",
            "Activation function: LeakyReLU(0.01) Number of Updates =  100\n"
          ],
          "name": "stdout"
        },
        {
          "output_type": "execute_result",
          "data": {
            "text/html": [
              "<div>\n",
              "<style scoped>\n",
              "    .dataframe tbody tr th:only-of-type {\n",
              "        vertical-align: middle;\n",
              "    }\n",
              "\n",
              "    .dataframe tbody tr th {\n",
              "        vertical-align: top;\n",
              "    }\n",
              "\n",
              "    .dataframe thead th {\n",
              "        text-align: right;\n",
              "    }\n",
              "</style>\n",
              "<table border=\"1\" class=\"dataframe\">\n",
              "  <thead>\n",
              "    <tr style=\"text-align: right;\">\n",
              "      <th></th>\n",
              "      <th>Classifier</th>\n",
              "      <th>Hid_dim</th>\n",
              "      <th>Drop Out p</th>\n",
              "      <th>L_Rate</th>\n",
              "      <th>Batch_Normaln</th>\n",
              "      <th>Train Error</th>\n",
              "      <th>Test Error</th>\n",
              "      <th>Var_Error</th>\n",
              "    </tr>\n",
              "  </thead>\n",
              "  <tbody>\n",
              "    <tr>\n",
              "      <th>1</th>\n",
              "      <td>FC 1-Layer</td>\n",
              "      <td>200</td>\n",
              "      <td>None</td>\n",
              "      <td>0.01</td>\n",
              "      <td>len(x)</td>\n",
              "      <td>0.078</td>\n",
              "      <td>0.5646</td>\n",
              "      <td>0.0113</td>\n",
              "    </tr>\n",
              "  </tbody>\n",
              "</table>\n",
              "</div>"
            ],
            "text/plain": [
              "   Classifier  Hid_dim Drop Out p  ...  Train Error Test Error  Var_Error\n",
              "1  FC 1-Layer      200       None  ...        0.078     0.5646     0.0113\n",
              "\n",
              "[1 rows x 8 columns]"
            ]
          },
          "metadata": {
            "tags": []
          },
          "execution_count": 69
        }
      ]
    },
    {
      "cell_type": "markdown",
      "metadata": {
        "id": "8tugg4GNgVNV"
      },
      "source": [
        "## Old Distance, $|Q|=250$"
      ]
    },
    {
      "cell_type": "code",
      "metadata": {
        "colab": {
          "base_uri": "https://localhost:8080/",
          "height": 110
        },
        "id": "1k-PNFIRgEEK",
        "outputId": "168ddbdf-0a66-4374-f287-6c20a1cf7ae1"
      },
      "source": [
        "print('|Q|=250,', 'Old Distance,', \"Number of Users: \", \"41,\", 'Number of Trials = ', num_trials)\n",
        "print(\"ReLU\", \"Number of Updates = \", Num_updates)\n",
        "Dic_1 = {}\n",
        "\n",
        "models = [\"Fully Connected 1-Layer\"]\n",
        "\n",
        "for k in range(len(models)): \n",
        "    Dic_1[k+1] = [models[k], H, learning_rate,  \n",
        "                  np.round(mean_train_error, decimals = 4), \n",
        "                  np.round(mean_test_error, decimals = 4),\n",
        "                  np.round(var_test_error, decimals = 4)]\n",
        "    \n",
        "df_1 = pd.DataFrame.from_dict(Dic_1, orient='index', columns=['Classifier', 'Hidden dim', \n",
        "                                                               'Learning Rate', 'Train Error', \n",
        "                                                              'Test Error', 'Variance Error'])\n",
        "df_1"
      ],
      "execution_count": null,
      "outputs": [
        {
          "output_type": "stream",
          "text": [
            "|Q|=250, Old Distance, Number of Users:  41, Number of Trials =  1\n",
            "ReLU Number of Updates =  10000\n"
          ],
          "name": "stdout"
        },
        {
          "output_type": "execute_result",
          "data": {
            "text/html": [
              "<div>\n",
              "<style scoped>\n",
              "    .dataframe tbody tr th:only-of-type {\n",
              "        vertical-align: middle;\n",
              "    }\n",
              "\n",
              "    .dataframe tbody tr th {\n",
              "        vertical-align: top;\n",
              "    }\n",
              "\n",
              "    .dataframe thead th {\n",
              "        text-align: right;\n",
              "    }\n",
              "</style>\n",
              "<table border=\"1\" class=\"dataframe\">\n",
              "  <thead>\n",
              "    <tr style=\"text-align: right;\">\n",
              "      <th></th>\n",
              "      <th>Classifier</th>\n",
              "      <th>Hidden dim</th>\n",
              "      <th>Learning Rate</th>\n",
              "      <th>Train Error</th>\n",
              "      <th>Test Error</th>\n",
              "      <th>Variance Error</th>\n",
              "    </tr>\n",
              "  </thead>\n",
              "  <tbody>\n",
              "    <tr>\n",
              "      <th>1</th>\n",
              "      <td>Fully Connected 1-Layer</td>\n",
              "      <td>200</td>\n",
              "      <td>0.001</td>\n",
              "      <td>0.4162</td>\n",
              "      <td>0.426</td>\n",
              "      <td>0.0096</td>\n",
              "    </tr>\n",
              "  </tbody>\n",
              "</table>\n",
              "</div>"
            ],
            "text/plain": [
              "                Classifier  Hidden dim  ...  Test Error  Variance Error\n",
              "1  Fully Connected 1-Layer         200  ...       0.426          0.0096\n",
              "\n",
              "[1 rows x 6 columns]"
            ]
          },
          "metadata": {
            "tags": []
          },
          "execution_count": 68
        }
      ]
    },
    {
      "cell_type": "markdown",
      "metadata": {
        "id": "LnI8nWyrf1eS"
      },
      "source": [
        "## Binary"
      ]
    },
    {
      "cell_type": "code",
      "metadata": {
        "scrolled": true,
        "colab": {
          "base_uri": "https://localhost:8080/",
          "height": 265
        },
        "id": "m_aHl3VV7oiL",
        "outputId": "ea6afa2e-affe-4e26-d0c5-c708fb052c64"
      },
      "source": [
        "Start_time = time.time()\n",
        "\n",
        "mean_train_error = 0\n",
        "mean_test_error = 0\n",
        "var_test_error = 0\n",
        "\n",
        "num_trials = 1\n",
        "Num_updates = 15000\n",
        "losses = torch.zeros(num_trials, r-1, Num_updates)\n",
        "learning_rate = 0.0008\n",
        "\n",
        "for s in range(num_trials):\n",
        "    \n",
        "    X_train_labeled = [0] * r\n",
        "    X_test_labeled = [0] * r\n",
        "    error_train_list_all = []\n",
        "    error_test_list_all = []\n",
        "\n",
        "    Start_time_2 = time.time()\n",
        "\n",
        "    for i in range(r-1): \n",
        "        j = i+1\n",
        "\n",
        "        x = torch.cat((X_train[i], X_train[j]), 0).float()\n",
        "        y = torch.cat((y_train[i], \n",
        "                       torch.zeros(y_train[j].size(), dtype=torch.double)), 0).long()\n",
        "\n",
        "        N = len(x) # N is batch size\n",
        "        D_in = len(x[0]) # D_in is input dimension\n",
        "        H = 100 # H is the hidden dimension \n",
        "        D_out = 2 # D_out is output dimension\n",
        "        q = 0.25\n",
        "\n",
        "        model = torch.nn.Sequential(\n",
        "                                    torch.nn.Linear(D_in, H),\n",
        "                                    torch.nn.LeakyReLU(0.01),\n",
        "                                    #torch.nn.Tanh(),\n",
        "                                    #torch.nn.ReLU(),\n",
        "                                    #torch.nn.Dropout(p=q),\n",
        "                                    torch.nn.Linear(H, D_out)\n",
        "                                    )\n",
        "\n",
        "        loss_fn = torch.nn.CrossEntropyLoss()\n",
        "        optimizer = torch.optim.Adam(model.parameters(), lr=learning_rate)\n",
        "        \n",
        "        for t in range(Num_updates):\n",
        "            y_pred = model(x) # of shape (N,D_out)\n",
        "            loss = loss_fn(y_pred, y)\n",
        "            losses[s, i, t] = loss\n",
        "\n",
        "            #if t % 499 == 498:\n",
        "            #    print(t, loss.item())\n",
        "\n",
        "            optimizer.zero_grad()\n",
        "\n",
        "            loss.backward() # Backward pass\n",
        "\n",
        "            optimizer.step()  # Calling the step function on the Optimizer \n",
        "\n",
        "        X = torch.cat((X_test[i], X_test[j]), 0).float()\n",
        "        Y = torch.cat((y_test[i], torch.zeros(y_test[j].size(), \n",
        "                                              dtype=torch.double)), 0).long()\n",
        "        Y_pred = model(X)\n",
        "\n",
        "        error_train_list_all.append(int(sum(abs(torch.argmax(y_pred, axis=1)-y)))/y.shape[0])\n",
        "        error_test_list_all.append(int(sum(abs(torch.argmax(Y_pred, axis=1)-Y)))/Y.shape[0])\n",
        "\n",
        "    mean_train_error += np.mean(error_train_list_all)\n",
        "    mean_test_error += np.mean(error_test_list_all)\n",
        "    var_test_error += np.var(error_test_list_all)\n",
        "\n",
        "mean_train_error /= num_trials\n",
        "mean_test_error /= num_trials\n",
        "var_test_error /= num_trials\n",
        "\n",
        "plt.plot((torch.mean(losses[0], dim=0)).detach().numpy())\n",
        "plt.show()"
      ],
      "execution_count": null,
      "outputs": [
        {
          "output_type": "display_data",
          "data": {
            "image/png": "[encoded data removed]",
            "text/plain": [
              "<Figure size 432x288 with 1 Axes>"
            ]
          },
          "metadata": {
            "tags": [],
            "needs_background": "light"
          }
        }
      ]
    },
    {
      "cell_type": "markdown",
      "metadata": {
        "id": "KGlaPJ2W9uNU"
      },
      "source": [
        "## New Distance, $|Q|=250$, $\\sigma=1$"
      ]
    },
    {
      "cell_type": "code",
      "metadata": {
        "colab": {
          "base_uri": "https://localhost:8080/",
          "height": 110
        },
        "id": "wLV3A_WXnuah",
        "outputId": "6dfebdad-3528-4637-bafa-927367b09508"
      },
      "source": [
        "print('|Q|=250,', 'New Distance,', 'sigma=1', \"Number of Users: \", \"41,\", \n",
        "      'Number of Trials = ', num_trials)\n",
        "print(\"Activation function: ReLU\", \"Number of Updates = \", Num_updates)\n",
        "Dic_1 = {}\n",
        "\n",
        "Dic_1[1] = [\"FC 1-Layer\", H, None, learning_rate, \"len(x)\", \n",
        "              np.round(mean_train_error, decimals = 4), \n",
        "              np.round(mean_test_error, decimals = 4),\n",
        "              np.round(var_test_error, decimals = 4)]\n",
        "    \n",
        "df_1 = pd.DataFrame.from_dict(Dic_1, \n",
        "                              orient='index', \n",
        "                              columns=['Classifier', 'Hid_dim', 'Drop Out p', \n",
        "                                       'L_Rate', 'Batch_Normaln', 'Train Error',\n",
        "                                       'Test Error', 'Var_Error'])\n",
        "df_1"
      ],
      "execution_count": null,
      "outputs": [
        {
          "output_type": "stream",
          "text": [
            "|Q|=250, New Distance, sigma=1 Number of Users:  41, Number of Trials =  1\n",
            "Activation function: ReLU Number of Updates =  1000\n"
          ],
          "name": "stdout"
        },
        {
          "output_type": "execute_result",
          "data": {
            "text/html": [
              "<div>\n",
              "<style scoped>\n",
              "    .dataframe tbody tr th:only-of-type {\n",
              "        vertical-align: middle;\n",
              "    }\n",
              "\n",
              "    .dataframe tbody tr th {\n",
              "        vertical-align: top;\n",
              "    }\n",
              "\n",
              "    .dataframe thead th {\n",
              "        text-align: right;\n",
              "    }\n",
              "</style>\n",
              "<table border=\"1\" class=\"dataframe\">\n",
              "  <thead>\n",
              "    <tr style=\"text-align: right;\">\n",
              "      <th></th>\n",
              "      <th>Classifier</th>\n",
              "      <th>Hid_dim</th>\n",
              "      <th>Drop Out p</th>\n",
              "      <th>L_Rate</th>\n",
              "      <th>Batch_Normaln</th>\n",
              "      <th>Train Error</th>\n",
              "      <th>Test Error</th>\n",
              "      <th>Var_Error</th>\n",
              "    </tr>\n",
              "  </thead>\n",
              "  <tbody>\n",
              "    <tr>\n",
              "      <th>1</th>\n",
              "      <td>FC 1-Layer</td>\n",
              "      <td>10</td>\n",
              "      <td>None</td>\n",
              "      <td>0.01</td>\n",
              "      <td>len(x)</td>\n",
              "      <td>0.0078</td>\n",
              "      <td>0.2667</td>\n",
              "      <td>0.0094</td>\n",
              "    </tr>\n",
              "  </tbody>\n",
              "</table>\n",
              "</div>"
            ],
            "text/plain": [
              "   Classifier  Hid_dim Drop Out p  ...  Train Error Test Error  Var_Error\n",
              "1  FC 1-Layer       10       None  ...       0.0078     0.2667     0.0094\n",
              "\n",
              "[1 rows x 8 columns]"
            ]
          },
          "metadata": {
            "tags": []
          },
          "execution_count": 25
        }
      ]
    },
    {
      "cell_type": "markdown",
      "metadata": {
        "id": "ZkY9PI4n85e_"
      },
      "source": [
        "## Old Distance, $|Q|=250$"
      ]
    },
    {
      "cell_type": "code",
      "metadata": {
        "colab": {
          "base_uri": "https://localhost:8080/",
          "height": 110
        },
        "id": "88tEFGCfu6D7",
        "outputId": "d196e0b1-f271-4079-af7f-ab9cbb795c29"
      },
      "source": [
        "print('|Q|=250,', 'Old Distance,', \"Number of Users: \", \"41,\", 'Number of Trials = ', num_trials)\n",
        "print(\"ReLU\", \"Number of Updates = \", Num_updates)\n",
        "Dic_1 = {}\n",
        "\n",
        "models = [\"Fully Connected 1-Layer\"]\n",
        "\n",
        "for k in range(len(models)): \n",
        "    Dic_1[k+1] = [models[k], H[0], None, learning_rate, \"len(x)\", \n",
        "                  np.round(mean_train_error, decimals = 4), \n",
        "                  np.round(mean_test_error, decimals = 4),\n",
        "                  np.round(var_test_error, decimals = 4)]\n",
        "    \n",
        "df_1 = pd.DataFrame.from_dict(Dic_1, orient='index', columns=['Classifier', 'Hidden dim', \n",
        "                                                              'Drop Out p', 'Learning Rate',\n",
        "                                                              'Batch Normalization', 'Train Error', \n",
        "                                                              'Test Error', 'Variance Error'])\n",
        "df_1"
      ],
      "execution_count": null,
      "outputs": [
        {
          "output_type": "stream",
          "text": [
            "|Q|=250, Old Distance, Number of Users:  41, Number of Trials =  1\n",
            "ReLU Number of Updates =  15000\n"
          ],
          "name": "stdout"
        },
        {
          "output_type": "execute_result",
          "data": {
            "text/html": [
              "<div>\n",
              "<style scoped>\n",
              "    .dataframe tbody tr th:only-of-type {\n",
              "        vertical-align: middle;\n",
              "    }\n",
              "\n",
              "    .dataframe tbody tr th {\n",
              "        vertical-align: top;\n",
              "    }\n",
              "\n",
              "    .dataframe thead th {\n",
              "        text-align: right;\n",
              "    }\n",
              "</style>\n",
              "<table border=\"1\" class=\"dataframe\">\n",
              "  <thead>\n",
              "    <tr style=\"text-align: right;\">\n",
              "      <th></th>\n",
              "      <th>Classifier</th>\n",
              "      <th>Hidden dim</th>\n",
              "      <th>Drop Out p</th>\n",
              "      <th>Learning Rate</th>\n",
              "      <th>Batch Normalization</th>\n",
              "      <th>Train Error</th>\n",
              "      <th>Test Error</th>\n",
              "      <th>Variance Error</th>\n",
              "    </tr>\n",
              "  </thead>\n",
              "  <tbody>\n",
              "    <tr>\n",
              "      <th>1</th>\n",
              "      <td>Fully Connected 1-Layer</td>\n",
              "      <td>100</td>\n",
              "      <td>None</td>\n",
              "      <td>0.0008</td>\n",
              "      <td>len(x)</td>\n",
              "      <td>0.0827</td>\n",
              "      <td>0.0965</td>\n",
              "      <td>0.0078</td>\n",
              "    </tr>\n",
              "  </tbody>\n",
              "</table>\n",
              "</div>"
            ],
            "text/plain": [
              "                Classifier  Hidden dim  ... Test Error  Variance Error\n",
              "1  Fully Connected 1-Layer         100  ...     0.0965          0.0078\n",
              "\n",
              "[1 rows x 8 columns]"
            ]
          },
          "metadata": {
            "tags": []
          },
          "execution_count": 14
        }
      ]
    },
    {
      "cell_type": "code",
      "metadata": {
        "id": "qLjrC4vsTJiF"
      },
      "source": [
        ""
      ],
      "execution_count": null,
      "outputs": []
    }
  ]
}