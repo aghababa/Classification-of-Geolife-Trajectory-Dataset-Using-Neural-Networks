{
  "nbformat": 4,
  "nbformat_minor": 0,
  "metadata": {
    "kernelspec": {
      "display_name": "Python 3",
      "language": "python",
      "name": "python3"
    },
    "language_info": {
      "codemirror_mode": {
        "name": "ipython",
        "version": 3
      },
      "file_extension": ".py",
      "mimetype": "text/x-python",
      "name": "python",
      "nbconvert_exporter": "python",
      "pygments_lexer": "ipython3",
      "version": "3.7.4"
    },
    "colab": {
      "name": "Classifiers.ipynb",
      "provenance": [],
      "collapsed_sections": []
    }
  },
  "cells": [
    {
      "cell_type": "code",
      "metadata": {
        "scrolled": true,
        "id": "V-xJxlvIlCjB"
      },
      "source": [
        "import numpy as np\n",
        "import time\n",
        "import math\n",
        "import random\n",
        "import glob\n",
        "from scipy import linalg as LA\n",
        "import pandas as pd\n",
        "from sklearn.model_selection import train_test_split"
      ],
      "execution_count": null,
      "outputs": []
    },
    {
      "cell_type": "code",
      "metadata": {
        "id": "3Baay7UJlCjG"
      },
      "source": [
        "float = np.vectorize(float)\n",
        "\n",
        "def read_file(file_name):\n",
        "    data = []\n",
        "    with open(file_name, \"r\") as f:\n",
        "        for line in f:\n",
        "            item = line.strip().split(\",\") # +[1]\n",
        "            data.append(float(item))\n",
        "    return data"
      ],
      "execution_count": null,
      "outputs": []
    },
    {
      "cell_type": "code",
      "metadata": {
        "id": "XD6GckUylCjI"
      },
      "source": [
        "I = glob.glob('New_Dist_Vectors/*.csv', recursive=True) #Change to 'Old_Dist_Vectors/*.csv' for the other dataset"
      ],
      "execution_count": null,
      "outputs": []
    },
    {
      "cell_type": "code",
      "metadata": {
        "id": "abqsEqTalCjK"
      },
      "source": [
        "r = 128\n",
        "data_embedded = [0] * r\n",
        "X_train = [0] * r\n",
        "X_test = [0] * r\n",
        "y_train = [0] * r\n",
        "y_test = [0] * r\n",
        "\n",
        "for i in range(r):\n",
        "    data_embedded[i] = np.array(read_file(I[i]))\n",
        "    X_train[i], X_test[i], y_train[i], y_test[i] = train_test_split(np.array(data_embedded[i]), np.ones(len(data_embedded[i])), test_size=0.3, random_state=109)\n",
        "\n",
        "data_embedded = np.array(data_embedded)"
      ],
      "execution_count": null,
      "outputs": []
    },
    {
      "cell_type": "code",
      "metadata": {
        "id": "x5VL2sZ3lCjQ"
      },
      "source": [
        "Start_time = time.time()\n",
        "\n",
        "mean_train_error = 0\n",
        "mean_test_error = 0\n",
        "std_test_error = 0\n",
        "\n",
        "num_trials = 10\n",
        "\n",
        "for s in range(num_trials):\n",
        "\n",
        "    X_train_labeled = [0] * r\n",
        "    X_test_labeled = [0] * r\n",
        "    error_train_list_all = []\n",
        "    error_test_list_all = []\n",
        "\n",
        "    Start_time_1 = time.time()\n",
        "\n",
        "    for i in range(r): \n",
        "\n",
        "        X_train_labeled[i] = np.concatenate((X_train[i], np.array([[-1]]* len(X_train[i]))), axis =1)\n",
        "        X_test_labeled[i] = np.concatenate((X_test[i], np.array([[-1]]* len(X_test[i]))), axis =1)\n",
        "\n",
        "        for j in range(i+1,r):\n",
        "            X_train_labeled[j] = np.concatenate((X_train[j], np.array([[1]]* len(X_train[j]))), axis =1)\n",
        "            X_test_labeled[j] = np.concatenate((X_test[j], np.array([[1]]* len(X_test[j]))), axis =1)\n",
        "\n",
        "            data_fin_train = np.insert(X_train_labeled[i], len(X_train_labeled[i]), X_train_labeled[j], axis = 0)\n",
        "            Z = list(data_fin_train)\n",
        "            random.shuffle(Z)\n",
        "            data_final_train = np.array(Z)\n",
        "\n",
        "            data_final_test = np.insert(X_test[i], len(X_test[i]), X_test[j], axis = 0)\n",
        "            data_final_test_labels = np.insert(X_test_labeled[i][:,-1], len(X_test[i]), X_test_labeled[j][:,-1], axis = 0)\n",
        "            \n",
        "            #***********************************************************\n",
        "            #TO DO PART:\n",
        "\n",
        "            # each time choose one of the following classifiers:\n",
        "            clf = a fully connected network with 1, 2 and 3 layers, depending on which has a better performance \n",
        "            #clf = a CNN with 1, 2 and 3 layers, depending on which has a better performance\n",
        "\n",
        "            #End of Your Job! :)\n",
        "            #***********************************************************\n",
        "            \n",
        "            #Train the model using the training sets\n",
        "            clf.fit(data_final_train[:,:-1], data_final_train[:,-1])\n",
        "\n",
        "            #Predict the response for test dataset\n",
        "            y_pred = clf.predict(data_final_test)\n",
        "            ee = 1 - metrics.accuracy_score(data_final_test_labels, y_pred)\n",
        "            error_test_list_all.append(ee)\n",
        "            \n",
        "            x_pred = clf.predict(data_final_train[:,:-1])\n",
        "            ff = 1 - metrics.accuracy_score(data_final_train[:,-1], x_pred)\n",
        "            error_train_list_all.append(ff)\n",
        "    \n",
        "    mean_train_error += np.mean(error_train_list_all)\n",
        "    mean_test_error += np.mean(error_test_list_all)\n",
        "    std_test_error += np.std(error_test_list_all)\n",
        "    \n",
        "    print(mean_test_error)\n",
        "    print('time for step', s, time.time() - Start_time_1)\n",
        "\n",
        "print('total time =', time.time() - Start_time)"
      ],
      "execution_count": null,
      "outputs": []
    },
    {
      "cell_type": "code",
      "metadata": {
        "id": "0Ox747WJlCjS"
      },
      "source": [
        "Dic = {}\n",
        "\n",
        "Dic[1] = [np.round(mean_train_error/num_trials, decimals = 4), \n",
        "        np.round(mean_test_error/num_trials, decimals = 4),\n",
        "        np.round(std_test_error/num_trials, decimals = 4)]\n",
        "\n",
        "print(\"Classifier: FC NN with 2? layers ...\")\n",
        "\n",
        "df = pd.DataFrame.from_dict(Dic1, orient='index', columns= ['Train Error','Test Error', 'Std'])\n",
        "df"
      ],
      "execution_count": null,
      "outputs": []
    },
    {
      "cell_type": "code",
      "metadata": {
        "id": "caoS7fuklCjp"
      },
      "source": [
        "E = df.to_latex(index=False)\n",
        "np.savetxt('Classifiers_FC_NN.tex', [E], fmt='%s') # change the name for each appropriate classifier"
      ],
      "execution_count": null,
      "outputs": []
    },
    {
      "cell_type": "code",
      "metadata": {
        "id": "icAfnXT9lCkD"
      },
      "source": [
        ""
      ],
      "execution_count": null,
      "outputs": []
    }
  ]
}