{
 "cells": [
  {
   "cell_type": "code",
   "execution_count": 2,
   "metadata": {
    "id": "V-xJxlvIlCjB",
    "scrolled": true
   },
   "outputs": [],
   "source": [
    "import numpy as np\n",
    "import time\n",
    "import math\n",
    "import random\n",
    "import glob\n",
    "from scipy import linalg as LA\n",
    "import pandas as pd\n",
    "from sklearn.model_selection import train_test_split\n",
    "import torch\n",
    "import torch.nn as nn\n",
    "import torch.optim as optim\n",
    "from torch.utils.data import sampler\n",
    "import torchvision.transforms as T\n",
    "\n",
    "import matplotlib.pyplot as plt\n",
    "%matplotlib inline"
   ]
  },
  {
   "cell_type": "code",
   "execution_count": 3,
   "metadata": {
    "id": "3Baay7UJlCjG"
   },
   "outputs": [],
   "source": [
    "float = np.vectorize(float)\n",
    "\n",
    "def read_file(file_name):\n",
    "    data = []\n",
    "    with open(file_name, \"r\") as f:\n",
    "        for line in f:\n",
    "            item = line.strip().split(\",\")\n",
    "            data.append(float(item))\n",
    "    return data"
   ]
  },
  {
   "cell_type": "code",
   "execution_count": 4,
   "metadata": {
    "id": "XD6GckUylCjI"
   },
   "outputs": [],
   "source": [
    "#I = glob.glob('DL Project/20-dim data (41) representation sigma=0.3/*.csv', recursive=True)\n",
    "#I = glob.glob('DL Project/20-dim data (41) representation old distamce/*.csv', recursive=True)\n",
    "#I = glob.glob('DL Project/50-dim data (41) representation sigma=0.25/*.csv', recursive=True)\n",
    "I = glob.glob('DL Project/50-dim data (41) representation sigma=1000/*.csv', recursive=True)\n",
    "#I = glob.glob('DL Project/50-dim data (41) representation old distamce/*.csv', recursive=True)\n",
    "#I = glob.glob('DL Project/250-dim data (41) representation sigma=1/*.csv', recursive=True)\n",
    "#I = glob.glob('DL Project/250-dim data (41) representation old distamce/*.csv', recursive=True)\n"
   ]
  },
  {
   "cell_type": "code",
   "execution_count": 5,
   "metadata": {},
   "outputs": [
    {
     "data": {
      "text/plain": [
       "41"
      ]
     },
     "execution_count": 5,
     "metadata": {},
     "output_type": "execute_result"
    }
   ],
   "source": [
    "r = len(I)\n",
    "r"
   ]
  },
  {
   "cell_type": "code",
   "execution_count": 6,
   "metadata": {
    "id": "abqsEqTalCjK"
   },
   "outputs": [],
   "source": [
    "data_embed = [0] * r\n",
    "\n",
    "for i in range(r):\n",
    "    data_embed[i] = [len(np.array(read_file(I[i]))), np.array(read_file(I[i]))]\n",
    "\n",
    "data_embed = np.array(data_embed)\n",
    "#data_embed = data_embed[data_embed[:,0].argsort()]"
   ]
  },
  {
   "cell_type": "code",
   "execution_count": 7,
   "metadata": {},
   "outputs": [],
   "source": [
    "X_train = [0] * r\n",
    "X_test = [0] * r\n",
    "y_train = [0] * r\n",
    "y_test = [0] * r\n",
    "\n",
    "for i in range(r):\n",
    "    X_train[i], X_test[i], y_train[i], y_test[i] = train_test_split(np.array(data_embed[i][1]), \n",
    "                                                                np.ones(len(data_embed[i][1])), \n",
    "                                                                test_size=0.3, \n",
    "                                                                random_state=109)"
   ]
  },
  {
   "cell_type": "code",
   "execution_count": 8,
   "metadata": {},
   "outputs": [],
   "source": [
    "for i in range(r):\n",
    "    X_train[i] = torch.tensor(X_train[i])\n",
    "    X_test[i] = torch.tensor(X_test[i])\n",
    "    y_train[i] = torch.tensor(y_train[i])\n",
    "    y_test[i] = torch.tensor(y_test[i])"
   ]
  },
  {
   "cell_type": "code",
   "execution_count": 9,
   "metadata": {},
   "outputs": [
    {
     "data": {
      "text/plain": [
       "tensor([ 8.3486e-05, -1.6719e-05, -1.3998e-04, -2.0105e-04, -2.2536e-04,\n",
       "        -2.6060e-04, -2.1736e-04, -1.5355e-04, -3.9396e-05, -5.4392e-06,\n",
       "        -3.5594e-05, -9.4164e-05, -1.4461e-04, -1.5219e-04, -7.8480e-05,\n",
       "        -6.2985e-05, -1.3133e-04, -3.1368e-04, -3.1661e-04, -4.2472e-04,\n",
       "        -4.0890e-04, -2.9497e-04, -2.5576e-04, -1.2452e-04, -2.2038e-04,\n",
       "         1.3053e-04,  3.8230e-04,  3.0821e-04,  5.7134e-04,  2.6316e-04,\n",
       "         2.6310e-05, -1.1681e-04, -3.4364e-04, -6.2630e-04, -6.3422e-04,\n",
       "        -3.6071e-04,  6.8906e-05, -3.4059e-04, -6.9094e-04, -1.0120e-03,\n",
       "        -1.3365e-03, -1.4892e-03, -1.7201e-03, -5.7177e-04,  2.8795e-04,\n",
       "        -3.8456e-04, -1.5549e-04, -1.5005e-04, -4.7357e-04,  7.6625e-05],\n",
       "       dtype=torch.float64)"
      ]
     },
     "execution_count": 9,
     "metadata": {},
     "output_type": "execute_result"
    }
   ],
   "source": [
    "X_train[0][0]"
   ]
  },
  {
   "cell_type": "code",
   "execution_count": 16,
   "metadata": {},
   "outputs": [],
   "source": [
    "A = data_embed[:,0]\n",
    "A = np.sort(A)"
   ]
  },
  {
   "cell_type": "code",
   "execution_count": 17,
   "metadata": {},
   "outputs": [
    {
     "name": "stdout",
     "output_type": "stream",
     "text": [
      "[100 101 106 108 112 113 120 133 144 146 147 148 150 150 154 160 167 173\n",
      " 182 196 196 207 215 226 260 275 295 318 371 382 389 394 407 423 544 583\n",
      " 678 747 800 2014 2124]\n"
     ]
    }
   ],
   "source": [
    "print(A)"
   ]
  },
  {
   "cell_type": "markdown",
   "metadata": {},
   "source": [
    "# 1-Layer Fully Connected Network"
   ]
  },
  {
   "cell_type": "markdown",
   "metadata": {},
   "source": [
    "## 10 Class Classification"
   ]
  },
  {
   "cell_type": "code",
   "execution_count": 35,
   "metadata": {},
   "outputs": [
    {
     "data": {
      "image/png": "[encoded data removed]",
      "text/plain": [
       "<Figure size 432x288 with 1 Axes>"
      ]
     },
     "metadata": {
      "needs_background": "light"
     },
     "output_type": "display_data"
    }
   ],
   "source": [
    "Start_time = time.time()\n",
    "\n",
    "mean_train_error = 0\n",
    "mean_test_error = 0\n",
    "var_test_error = 0\n",
    "\n",
    "lr_decay = 0.7\n",
    "num_trials = 1\n",
    "learning_rate = 1e-2\n",
    "Num_updates = 15000\n",
    "losses = torch.zeros(num_trials, r-9, Num_updates)\n",
    "\n",
    "for s in range(num_trials):\n",
    "\n",
    "    error_train_list_all = []\n",
    "    error_test_list_all = []\n",
    "\n",
    "    Start_time_2 = time.time()\n",
    "\n",
    "    for i in range(r-9): \n",
    "\n",
    "        x = torch.cat((X_train[i], X_train[i+1], X_train[i+2], X_train[i+3], \n",
    "                       X_train[i+4],X_train[i+5], X_train[i+6], X_train[i+7],\n",
    "                       X_train[i+8], X_train[i+9]), 0).float()\n",
    "        y = torch.cat((0 * y_train[i], y_train[i+1], 2 * y_train[i+2], 3 * y_train[i+3],\n",
    "                       4 * y_train[i+4], 5 * y_train[i+5], 6 * y_train[i+6], 7* y_train[i+7],\n",
    "                       8 * y_train[i+8], 9 * y_train[i+9]), 0).long()\n",
    "\n",
    "        D_in = len(x[0]) # D_in is input dimension\n",
    "        H = 200 # H is the dimension of hidden layer\n",
    "        D_out = 10 # D_out is output dimension\n",
    "\n",
    "        model = torch.nn.Sequential(\n",
    "                                    torch.nn.Linear(D_in, H),\n",
    "                                    torch.nn.LeakyReLU(0.01),\n",
    "                                    #torch.nn.ReLU(),\n",
    "                                    #torch.nn.Tanh(),\n",
    "                                    #torch.nn.Dropout(p=q),\n",
    "                                    torch.nn.Linear(H, D_out)\n",
    "                                    )\n",
    "\n",
    "        loss_fn = torch.nn.CrossEntropyLoss()\n",
    "        optimizer = torch.optim.Adam(model.parameters(), lr=learning_rate)\n",
    "        \n",
    "        for t in range(Num_updates):\n",
    "            y_pred = model(x) # of shape (N,D_out)\n",
    "            #print(torch.argmax(y_pred, 1))\n",
    "            loss = loss_fn(y_pred, y)\n",
    "            losses[s, i, t] = loss\n",
    "\n",
    "            #if t % 1000 == 0:\n",
    "            #    print(t, loss.item())\n",
    "                \n",
    "            if (t+1) % 400 == 0:\n",
    "                optimizer.param_groups[0]['lr'] = lr_decay * learning_rate\n",
    "\n",
    "            optimizer.zero_grad()\n",
    "\n",
    "            loss.backward() # Backward pass\n",
    "\n",
    "            optimizer.step()  # Calling the step function on the Optimizer \n",
    "\n",
    "        X = torch.cat((X_test[i], X_test[i+1], X_test[i+2], X_test[i+3], \n",
    "                       X_test[i+4],X_test[i+5], X_test[i+6], X_test[i+7],\n",
    "                       X_test[i+8], X_test[i+9]), 0).float()\n",
    "        Y = torch.cat((0 * y_test[i], y_test[i+1], 2 * y_test[i+2], 3 * y_test[i+3],\n",
    "                       4 * y_test[i+4], 5 * y_test[i+5], 6 * y_test[i+6], 7* y_test[i+7],\n",
    "                       8 * y_test[i+8], 9 * y_test[i+9]), 0).long()\n",
    "        \n",
    "        Y_pred = model(X)\n",
    "        \n",
    "        error_train_list_all.append((torch.argmax(y_pred, 1) != y).sum().float()/len(y))\n",
    "        error_test_list_all.append((torch.argmax(Y_pred, 1) != Y).sum().float()/len(Y))\n",
    "\n",
    "    mean_train_error += np.mean(error_train_list_all)\n",
    "    mean_test_error += np.mean(error_test_list_all)\n",
    "    var_test_error += np.var(error_test_list_all)\n",
    "\n",
    "mean_train_error /= num_trials\n",
    "mean_test_error /= num_trials\n",
    "var_test_error /= num_trials\n",
    "\n",
    "plt.plot((torch.mean(losses[0], dim=0)).detach().numpy())\n",
    "plt.show()"
   ]
  },
  {
   "cell_type": "markdown",
   "metadata": {},
   "source": [
    "### New Distance, $|Q|=20$, $\\sigma=0.3$"
   ]
  },
  {
   "cell_type": "code",
   "execution_count": 27,
   "metadata": {},
   "outputs": [
    {
     "name": "stdout",
     "output_type": "stream",
     "text": [
      "|Q|=20, sigma = 0.3, Number of Users:  41, Number of Trials =  1\n",
      "Activation = LeakyReLU(0.01), Learning Decay = 0.5 , Number of Updates =  10000\n"
     ]
    },
    {
     "data": {
      "text/html": [
       "<div>\n",
       "<style scoped>\n",
       "    .dataframe tbody tr th:only-of-type {\n",
       "        vertical-align: middle;\n",
       "    }\n",
       "\n",
       "    .dataframe tbody tr th {\n",
       "        vertical-align: top;\n",
       "    }\n",
       "\n",
       "    .dataframe thead th {\n",
       "        text-align: right;\n",
       "    }\n",
       "</style>\n",
       "<table border=\"1\" class=\"dataframe\">\n",
       "  <thead>\n",
       "    <tr style=\"text-align: right;\">\n",
       "      <th></th>\n",
       "      <th>Classifier</th>\n",
       "      <th>Num_classes</th>\n",
       "      <th>Hidden dim</th>\n",
       "      <th>Drop Out p</th>\n",
       "      <th>Learning Rate</th>\n",
       "      <th>Batch Normalization</th>\n",
       "      <th>Train Error</th>\n",
       "      <th>Test Error</th>\n",
       "      <th>Variance Error</th>\n",
       "    </tr>\n",
       "  </thead>\n",
       "  <tbody>\n",
       "    <tr>\n",
       "      <td>1</td>\n",
       "      <td>FC 1-Layer</td>\n",
       "      <td>10</td>\n",
       "      <td>200</td>\n",
       "      <td>None</td>\n",
       "      <td>0.1</td>\n",
       "      <td>len(x)</td>\n",
       "      <td>0.2352</td>\n",
       "      <td>0.4007</td>\n",
       "      <td>0.005</td>\n",
       "    </tr>\n",
       "  </tbody>\n",
       "</table>\n",
       "</div>"
      ],
      "text/plain": [
       "   Classifier  Num_classes  Hidden dim Drop Out p  Learning Rate  \\\n",
       "1  FC 1-Layer           10         200       None            0.1   \n",
       "\n",
       "  Batch Normalization  Train Error  Test Error  Variance Error  \n",
       "1              len(x)       0.2352      0.4007           0.005  "
      ]
     },
     "execution_count": 27,
     "metadata": {},
     "output_type": "execute_result"
    }
   ],
   "source": [
    "print('|Q|=20,', 'sigma = 0.3,', \"Number of Users: \", \"41,\", 'Number of Trials = ', num_trials)\n",
    "print(\"Activation = LeakyReLU(0.01),\", \"Learning Decay =\", lr_decay, \n",
    "      \", Number of Updates = \", Num_updates)\n",
    "Dic_1 = {}\n",
    "\n",
    "Dic_1[1] = [\"FC 1-Layer\", 10, H, None, learning_rate, \"len(x)\", \n",
    "              np.round(mean_train_error, decimals = 4), \n",
    "              np.round(mean_test_error, decimals = 4),\n",
    "              np.round(var_test_error, decimals = 4)]\n",
    "    \n",
    "df_1 = pd.DataFrame.from_dict(Dic_1, orient='index', \n",
    "                              columns=['Classifier', 'Num_classes', 'Hidden dim', \n",
    "                                       'Drop Out p', 'Learning Rate',\n",
    "                                       'Batch Normalization', 'Train Error', \n",
    "                                       'Test Error', 'Variance Error'])\n",
    "df_1"
   ]
  },
  {
   "cell_type": "markdown",
   "metadata": {},
   "source": [
    "### Old Distance, $|Q|=20$"
   ]
  },
  {
   "cell_type": "code",
   "execution_count": 18,
   "metadata": {},
   "outputs": [
    {
     "name": "stdout",
     "output_type": "stream",
     "text": [
      "|Q|=20, Old Distance, Number of Users:  41, Number of Trials =  1\n",
      "Activation = LeakyReLU(0.01), Learning Decay = 0.9 , Number of Updates =  5000\n"
     ]
    },
    {
     "data": {
      "text/html": [
       "<div>\n",
       "<style scoped>\n",
       "    .dataframe tbody tr th:only-of-type {\n",
       "        vertical-align: middle;\n",
       "    }\n",
       "\n",
       "    .dataframe tbody tr th {\n",
       "        vertical-align: top;\n",
       "    }\n",
       "\n",
       "    .dataframe thead th {\n",
       "        text-align: right;\n",
       "    }\n",
       "</style>\n",
       "<table border=\"1\" class=\"dataframe\">\n",
       "  <thead>\n",
       "    <tr style=\"text-align: right;\">\n",
       "      <th></th>\n",
       "      <th>Classifier</th>\n",
       "      <th>Num_classes</th>\n",
       "      <th>Hidden dim</th>\n",
       "      <th>Drop Out p</th>\n",
       "      <th>Learning Rate</th>\n",
       "      <th>Batch Normalization</th>\n",
       "      <th>Train Error</th>\n",
       "      <th>Test Error</th>\n",
       "      <th>Variance Error</th>\n",
       "    </tr>\n",
       "  </thead>\n",
       "  <tbody>\n",
       "    <tr>\n",
       "      <td>1</td>\n",
       "      <td>FC 1-Layer</td>\n",
       "      <td>10</td>\n",
       "      <td>20</td>\n",
       "      <td>None</td>\n",
       "      <td>0.007</td>\n",
       "      <td>len(x)</td>\n",
       "      <td>0.3246</td>\n",
       "      <td>0.3275</td>\n",
       "      <td>0.0029</td>\n",
       "    </tr>\n",
       "  </tbody>\n",
       "</table>\n",
       "</div>"
      ],
      "text/plain": [
       "   Classifier  Num_classes  Hidden dim Drop Out p  Learning Rate  \\\n",
       "1  FC 1-Layer           10          20       None          0.007   \n",
       "\n",
       "  Batch Normalization  Train Error  Test Error  Variance Error  \n",
       "1              len(x)       0.3246      0.3275          0.0029  "
      ]
     },
     "execution_count": 18,
     "metadata": {},
     "output_type": "execute_result"
    }
   ],
   "source": [
    "print('|Q|=20,', 'Old Distance,', \"Number of Users: \", \"41,\", \n",
    "      'Number of Trials = ', num_trials)\n",
    "print(\"Activation = LeakyReLU(0.01),\", \"Learning Decay =\", lr_decay, \n",
    "      \", Number of Updates = \", Num_updates)\n",
    "Dic_1 = {}\n",
    "\n",
    "Dic_1[1] = [\"FC 1-Layer\", 10, H, None, learning_rate, \"len(x)\", \n",
    "              np.round(mean_train_error, decimals = 4), \n",
    "              np.round(mean_test_error, decimals = 4),\n",
    "              np.round(var_test_error, decimals = 4)]\n",
    "    \n",
    "df_1 = pd.DataFrame.from_dict(Dic_1, orient='index', \n",
    "                              columns=['Classifier', 'Num_classes', 'Hidden dim', \n",
    "                                       'Drop Out p', 'Learning Rate',\n",
    "                                       'Batch Normalization', 'Train Error', \n",
    "                                       'Test Error', 'Variance Error'])\n",
    "df_1"
   ]
  },
  {
   "cell_type": "markdown",
   "metadata": {},
   "source": [
    "### New Distance, $|Q|=50$, $\\sigma=0.25$"
   ]
  },
  {
   "cell_type": "code",
   "execution_count": 16,
   "metadata": {},
   "outputs": [
    {
     "name": "stdout",
     "output_type": "stream",
     "text": [
      "|Q|=50, sigma = 0.25, Number of Users:  41, Number of Trials =  1\n",
      "Activation = LeakyReLU(0.01), Learning Decay = 0.9 , Number of Updates =  500\n"
     ]
    },
    {
     "data": {
      "text/html": [
       "<div>\n",
       "<style scoped>\n",
       "    .dataframe tbody tr th:only-of-type {\n",
       "        vertical-align: middle;\n",
       "    }\n",
       "\n",
       "    .dataframe tbody tr th {\n",
       "        vertical-align: top;\n",
       "    }\n",
       "\n",
       "    .dataframe thead th {\n",
       "        text-align: right;\n",
       "    }\n",
       "</style>\n",
       "<table border=\"1\" class=\"dataframe\">\n",
       "  <thead>\n",
       "    <tr style=\"text-align: right;\">\n",
       "      <th></th>\n",
       "      <th>Classifier</th>\n",
       "      <th>Num_classes</th>\n",
       "      <th>Hidden dim</th>\n",
       "      <th>Drop Out p</th>\n",
       "      <th>Learning Rate</th>\n",
       "      <th>Batch Normalization</th>\n",
       "      <th>Train Error</th>\n",
       "      <th>Test Error</th>\n",
       "      <th>Variance Error</th>\n",
       "    </tr>\n",
       "  </thead>\n",
       "  <tbody>\n",
       "    <tr>\n",
       "      <td>1</td>\n",
       "      <td>FC 1-Layer</td>\n",
       "      <td>10</td>\n",
       "      <td>50</td>\n",
       "      <td>None</td>\n",
       "      <td>0.02</td>\n",
       "      <td>len(x)</td>\n",
       "      <td>0.0493</td>\n",
       "      <td>0.4899</td>\n",
       "      <td>0.0069</td>\n",
       "    </tr>\n",
       "  </tbody>\n",
       "</table>\n",
       "</div>"
      ],
      "text/plain": [
       "   Classifier  Num_classes  Hidden dim Drop Out p  Learning Rate  \\\n",
       "1  FC 1-Layer           10          50       None           0.02   \n",
       "\n",
       "  Batch Normalization  Train Error  Test Error  Variance Error  \n",
       "1              len(x)       0.0493      0.4899          0.0069  "
      ]
     },
     "execution_count": 16,
     "metadata": {},
     "output_type": "execute_result"
    }
   ],
   "source": [
    "print('|Q|=50,', 'sigma = 0.25,', \"Number of Users: \", \"41,\", 'Number of Trials = ', num_trials)\n",
    "print(\"Activation = LeakyReLU(0.01),\", \"Learning Decay =\", lr_decay, \n",
    "      \", Number of Updates = \", Num_updates)\n",
    "Dic_1 = {}\n",
    "\n",
    "Dic_1[1] = [\"FC 1-Layer\", 10, H, None, learning_rate, \"len(x)\", \n",
    "              np.round(mean_train_error, decimals = 4), \n",
    "              np.round(mean_test_error, decimals = 4),\n",
    "              np.round(var_test_error, decimals = 4)]\n",
    "    \n",
    "df_1 = pd.DataFrame.from_dict(Dic_1, orient='index', \n",
    "                              columns=['Classifier', 'Num_classes', 'Hidden dim', \n",
    "                                       'Drop Out p', 'Learning Rate',\n",
    "                                       'Batch Normalization', 'Train Error', \n",
    "                                       'Test Error', 'Variance Error'])\n",
    "df_1"
   ]
  },
  {
   "cell_type": "markdown",
   "metadata": {},
   "source": [
    "### New Distance, $|Q|=50$, $\\sigma=1000$"
   ]
  },
  {
   "cell_type": "code",
   "execution_count": 37,
   "metadata": {},
   "outputs": [
    {
     "name": "stdout",
     "output_type": "stream",
     "text": [
      "|Q|=50, sigma = 1000, Number of Users:  41, Number of Trials =  1\n",
      "Activation = LeakyReLU(0.01), Learning Decay = 0.7 , Number of Updates =  15000\n"
     ]
    },
    {
     "data": {
      "text/html": [
       "<div>\n",
       "<style scoped>\n",
       "    .dataframe tbody tr th:only-of-type {\n",
       "        vertical-align: middle;\n",
       "    }\n",
       "\n",
       "    .dataframe tbody tr th {\n",
       "        vertical-align: top;\n",
       "    }\n",
       "\n",
       "    .dataframe thead th {\n",
       "        text-align: right;\n",
       "    }\n",
       "</style>\n",
       "<table border=\"1\" class=\"dataframe\">\n",
       "  <thead>\n",
       "    <tr style=\"text-align: right;\">\n",
       "      <th></th>\n",
       "      <th>Classifier</th>\n",
       "      <th>Num_classes</th>\n",
       "      <th>Hidden dim</th>\n",
       "      <th>Drop Out p</th>\n",
       "      <th>Learning Rate</th>\n",
       "      <th>Batch Normalization</th>\n",
       "      <th>Train Error</th>\n",
       "      <th>Test Error</th>\n",
       "      <th>Variance Error</th>\n",
       "    </tr>\n",
       "  </thead>\n",
       "  <tbody>\n",
       "    <tr>\n",
       "      <td>1</td>\n",
       "      <td>Fully Connected 1-Layer</td>\n",
       "      <td>10</td>\n",
       "      <td>200</td>\n",
       "      <td>None</td>\n",
       "      <td>0.01</td>\n",
       "      <td>len(x)</td>\n",
       "      <td>0.2111</td>\n",
       "      <td>0.5367</td>\n",
       "      <td>0.0057</td>\n",
       "    </tr>\n",
       "  </tbody>\n",
       "</table>\n",
       "</div>"
      ],
      "text/plain": [
       "                Classifier  Num_classes  Hidden dim Drop Out p  Learning Rate  \\\n",
       "1  Fully Connected 1-Layer           10         200       None           0.01   \n",
       "\n",
       "  Batch Normalization  Train Error  Test Error  Variance Error  \n",
       "1              len(x)       0.2111      0.5367          0.0057  "
      ]
     },
     "execution_count": 37,
     "metadata": {},
     "output_type": "execute_result"
    }
   ],
   "source": [
    "print('|Q|=50,', 'sigma = 1000,', \"Number of Users: \", \"41,\", 'Number of Trials = ', num_trials)\n",
    "print(\"Activation = LeakyReLU(0.01),\", \"Learning Decay =\", lr_decay, \n",
    "      \", Number of Updates = \", Num_updates)\n",
    "Dic_1 = {}\n",
    "\n",
    "Dic_1[1] = [\"Fully Connected 1-Layer\", 10, H, None, learning_rate, \"len(x)\", \n",
    "              np.round(mean_train_error, decimals = 4), \n",
    "              np.round(mean_test_error, decimals = 4),\n",
    "              np.round(var_test_error, decimals = 4)]\n",
    "    \n",
    "df_1 = pd.DataFrame.from_dict(Dic_1, orient='index', \n",
    "                              columns=['Classifier', 'Num_classes', 'Hidden dim', \n",
    "                                       'Drop Out p', 'Learning Rate',\n",
    "                                       'Batch Normalization', 'Train Error', \n",
    "                                       'Test Error', 'Variance Error'])\n",
    "df_1"
   ]
  },
  {
   "cell_type": "markdown",
   "metadata": {},
   "source": [
    "### Old Distance, $|Q|=50$"
   ]
  },
  {
   "cell_type": "code",
   "execution_count": 26,
   "metadata": {},
   "outputs": [
    {
     "name": "stdout",
     "output_type": "stream",
     "text": [
      "|Q|=50, Old Distance, Number of Users:  41, Number of Trials =  1\n",
      "Activation = LeakyReLU(0.01), Learning Decay = 0.4 , Number of Updates =  10000\n"
     ]
    },
    {
     "data": {
      "text/html": [
       "<div>\n",
       "<style scoped>\n",
       "    .dataframe tbody tr th:only-of-type {\n",
       "        vertical-align: middle;\n",
       "    }\n",
       "\n",
       "    .dataframe tbody tr th {\n",
       "        vertical-align: top;\n",
       "    }\n",
       "\n",
       "    .dataframe thead th {\n",
       "        text-align: right;\n",
       "    }\n",
       "</style>\n",
       "<table border=\"1\" class=\"dataframe\">\n",
       "  <thead>\n",
       "    <tr style=\"text-align: right;\">\n",
       "      <th></th>\n",
       "      <th>Classifier</th>\n",
       "      <th>Hidden dim</th>\n",
       "      <th>Drop Out p</th>\n",
       "      <th>Learning Rate</th>\n",
       "      <th>Batch Normalization</th>\n",
       "      <th>Train Error</th>\n",
       "      <th>Test Error</th>\n",
       "      <th>Variance Error</th>\n",
       "    </tr>\n",
       "  </thead>\n",
       "  <tbody>\n",
       "    <tr>\n",
       "      <td>1</td>\n",
       "      <td>Fully Connected 1-Layer</td>\n",
       "      <td>500</td>\n",
       "      <td>None</td>\n",
       "      <td>0.01</td>\n",
       "      <td>len(x)</td>\n",
       "      <td>0.1422</td>\n",
       "      <td>0.192</td>\n",
       "      <td>0.0017</td>\n",
       "    </tr>\n",
       "  </tbody>\n",
       "</table>\n",
       "</div>"
      ],
      "text/plain": [
       "                Classifier  Hidden dim Drop Out p  Learning Rate  \\\n",
       "1  Fully Connected 1-Layer         500       None           0.01   \n",
       "\n",
       "  Batch Normalization  Train Error  Test Error  Variance Error  \n",
       "1              len(x)       0.1422       0.192          0.0017  "
      ]
     },
     "execution_count": 26,
     "metadata": {},
     "output_type": "execute_result"
    }
   ],
   "source": [
    "print('|Q|=50,', 'Old Distance,', \"Number of Users: \", \"41,\", 'Number of Trials = ', num_trials)\n",
    "print(\"Activation = LeakyReLU(0.01),\", \"Learning Decay =\", lr_decay, \n",
    "      \", Number of Updates = \", Num_updates)\n",
    "Dic_1 = {}\n",
    "\n",
    "Dic_1[1] = [\"Fully Connected 1-Layer\", H, None, learning_rate, \"len(x)\", \n",
    "              np.round(mean_train_error, decimals = 4), \n",
    "              np.round(mean_test_error, decimals = 4),\n",
    "              np.round(var_test_error, decimals = 4)]\n",
    "    \n",
    "df_1 = pd.DataFrame.from_dict(Dic_1, orient='index', \n",
    "                              columns=['Classifier', 'Hidden dim', \n",
    "                                       'Drop Out p', 'Learning Rate',\n",
    "                                       'Batch Normalization', 'Train Error', \n",
    "                                       'Test Error', 'Variance Error'])\n",
    "df_1"
   ]
  },
  {
   "cell_type": "markdown",
   "metadata": {},
   "source": [
    "## Binary Classification"
   ]
  },
  {
   "cell_type": "code",
   "execution_count": 10,
   "metadata": {
    "scrolled": true
   },
   "outputs": [
    {
     "data": {
      "image/png": "[encoded data removed]",
      "text/plain": [
       "<Figure size 432x288 with 1 Axes>"
      ]
     },
     "metadata": {
      "needs_background": "light"
     },
     "output_type": "display_data"
    }
   ],
   "source": [
    "Start_time = time.time()\n",
    "\n",
    "mean_train_error = 0\n",
    "mean_test_error = 0\n",
    "var_test_error = 0\n",
    "\n",
    "lr_decay = 0.9\n",
    "num_trials = 1\n",
    "learning_rate = 5e-3\n",
    "Num_updates = 1000\n",
    "losses = torch.zeros(num_trials, r-1, Num_updates)\n",
    "\n",
    "for s in range(num_trials):\n",
    "    \n",
    "    X_train_labeled = [0] * r\n",
    "    X_test_labeled = [0] * r\n",
    "    error_train_list_all = []\n",
    "    error_test_list_all = []\n",
    "\n",
    "    Start_time_2 = time.time()\n",
    "\n",
    "    for i in range(r-1): #31-34\n",
    "        j = i+1\n",
    "\n",
    "        x = torch.cat((X_train[i], X_train[j]), 0).float()\n",
    "        y = torch.cat((y_train[i], \n",
    "                       torch.zeros(y_train[j].size(), dtype=torch.double)), 0).long()\n",
    "        \n",
    "        #mean = torch.mean(x, dim=0)\n",
    "        #std = torch.std(x, dim=0)\n",
    "        #x = (x - mean)/std\n",
    "\n",
    "        N = len(x) # N is batch size\n",
    "        D_in = len(x[0]) # D_in is input dimension\n",
    "        H = 500 # H is the dimension of hidden layer\n",
    "        D_out = 2 # D_out is output dimension\n",
    "        q = 0.5\n",
    "\n",
    "        model = torch.nn.Sequential(\n",
    "                                    torch.nn.Linear(D_in, H),\n",
    "                                    torch.nn.LeakyReLU(0.01),\n",
    "                                    #torch.nn.ReLU(),\n",
    "                                    #torch.nn.Tanh(),\n",
    "                                    #torch.nn.Dropout(p=q),\n",
    "                                    torch.nn.Linear(H, D_out)\n",
    "                                    )\n",
    "\n",
    "        loss_fn = torch.nn.CrossEntropyLoss()\n",
    "        optimizer = torch.optim.Adam(model.parameters(), lr=learning_rate)\n",
    "        \n",
    "        for t in range(Num_updates):\n",
    "            y_pred = model(x) # of shape (N,D_out)\n",
    "            loss = loss_fn(y_pred, y)\n",
    "            losses[s, i, t] = loss\n",
    "\n",
    "            #if t % 1000 == 0:\n",
    "            #    print(t, loss.item())\n",
    "                \n",
    "            if (t+1) % 1000 == 0:\n",
    "                optimizer.param_groups[0]['lr'] = lr_decay * learning_rate\n",
    "\n",
    "            optimizer.zero_grad()\n",
    "\n",
    "            loss.backward() # Backward pass\n",
    "\n",
    "            optimizer.step()  # Calling the step function on the Optimizer \n",
    "\n",
    "        X = torch.cat((X_test[i], X_test[j]), 0).float()\n",
    "        Y = torch.cat((y_test[i], torch.zeros(y_test[j].size(), \n",
    "                                              dtype=torch.double)), 0).long()\n",
    "        #X = (X - mean)/std        \n",
    "        \n",
    "        Y_pred = model(X)\n",
    "\n",
    "        error_train_list_all.append(int(sum(abs(torch.argmax(y_pred, axis=1)-y)))/y.shape[0])\n",
    "        error_test_list_all.append(int(sum(abs(torch.argmax(Y_pred, axis=1)-Y)))/Y.shape[0])\n",
    "\n",
    "    mean_train_error += np.mean(error_train_list_all)\n",
    "    mean_test_error += np.mean(error_test_list_all)\n",
    "    var_test_error += np.var(error_test_list_all)\n",
    "\n",
    "mean_train_error /= num_trials\n",
    "mean_test_error /= num_trials\n",
    "var_test_error /= num_trials\n",
    "\n",
    "plt.plot((torch.mean(losses[0], dim=0)).detach().numpy())\n",
    "plt.show()"
   ]
  },
  {
   "cell_type": "markdown",
   "metadata": {},
   "source": [
    "### New Distance, $|Q|=20$, $\\sigma=0.3$"
   ]
  },
  {
   "cell_type": "code",
   "execution_count": 16,
   "metadata": {},
   "outputs": [
    {
     "name": "stdout",
     "output_type": "stream",
     "text": [
      "|Q|=20, sigma = 0.3, Number of Users:  41, Number of Trials =  1\n",
      "Activation = LeakyReLU(0.01), Learning Decay = 0.7 , Number of Updates =  10000\n"
     ]
    },
    {
     "data": {
      "text/html": [
       "<div>\n",
       "<style scoped>\n",
       "    .dataframe tbody tr th:only-of-type {\n",
       "        vertical-align: middle;\n",
       "    }\n",
       "\n",
       "    .dataframe tbody tr th {\n",
       "        vertical-align: top;\n",
       "    }\n",
       "\n",
       "    .dataframe thead th {\n",
       "        text-align: right;\n",
       "    }\n",
       "</style>\n",
       "<table border=\"1\" class=\"dataframe\">\n",
       "  <thead>\n",
       "    <tr style=\"text-align: right;\">\n",
       "      <th></th>\n",
       "      <th>Classifier</th>\n",
       "      <th>Hidden dim</th>\n",
       "      <th>Drop Out p</th>\n",
       "      <th>Learning Rate</th>\n",
       "      <th>Batch Normalization</th>\n",
       "      <th>Train Error</th>\n",
       "      <th>Test Error</th>\n",
       "      <th>Variance Error</th>\n",
       "    </tr>\n",
       "  </thead>\n",
       "  <tbody>\n",
       "    <tr>\n",
       "      <td>1</td>\n",
       "      <td>Fully Connected 1-Layer</td>\n",
       "      <td>200</td>\n",
       "      <td>None</td>\n",
       "      <td>0.01</td>\n",
       "      <td>len(x)</td>\n",
       "      <td>0.0459</td>\n",
       "      <td>0.1679</td>\n",
       "      <td>0.0044</td>\n",
       "    </tr>\n",
       "  </tbody>\n",
       "</table>\n",
       "</div>"
      ],
      "text/plain": [
       "                Classifier  Hidden dim Drop Out p  Learning Rate  \\\n",
       "1  Fully Connected 1-Layer         200       None           0.01   \n",
       "\n",
       "  Batch Normalization  Train Error  Test Error  Variance Error  \n",
       "1              len(x)       0.0459      0.1679          0.0044  "
      ]
     },
     "execution_count": 16,
     "metadata": {},
     "output_type": "execute_result"
    }
   ],
   "source": [
    "print('|Q|=20,', 'sigma = 0.3,', \"Number of Users: \", \"41,\", 'Number of Trials = ', num_trials)\n",
    "print(\"Activation = LeakyReLU(0.01),\", \"Learning Decay =\", lr_decay, \n",
    "      \", Number of Updates = \", Num_updates)\n",
    "Dic_1 = {}\n",
    "\n",
    "Dic_1[1] = [\"Fully Connected 1-Layer\", H, None, learning_rate, \"len(x)\", \n",
    "              np.round(mean_train_error, decimals = 4), \n",
    "              np.round(mean_test_error, decimals = 4),\n",
    "              np.round(var_test_error, decimals = 4)]\n",
    "    \n",
    "df_1 = pd.DataFrame.from_dict(Dic_1, orient='index', \n",
    "                              columns=['Classifier', 'Hidden dim', \n",
    "                                       'Drop Out p', 'Learning Rate',\n",
    "                                       'Batch Normalization', 'Train Error', \n",
    "                                       'Test Error', 'Variance Error'])\n",
    "df_1"
   ]
  },
  {
   "cell_type": "markdown",
   "metadata": {},
   "source": [
    "### Old Distance, $|Q|=20$"
   ]
  },
  {
   "cell_type": "code",
   "execution_count": 223,
   "metadata": {},
   "outputs": [
    {
     "name": "stdout",
     "output_type": "stream",
     "text": [
      "|Q|=20, Old Distance, Number of Users:  41, Number of Trials =  1\n",
      "Tanh, Number of Updates =  10000\n"
     ]
    },
    {
     "data": {
      "text/html": [
       "<div>\n",
       "<style scoped>\n",
       "    .dataframe tbody tr th:only-of-type {\n",
       "        vertical-align: middle;\n",
       "    }\n",
       "\n",
       "    .dataframe tbody tr th {\n",
       "        vertical-align: top;\n",
       "    }\n",
       "\n",
       "    .dataframe thead th {\n",
       "        text-align: right;\n",
       "    }\n",
       "</style>\n",
       "<table border=\"1\" class=\"dataframe\">\n",
       "  <thead>\n",
       "    <tr style=\"text-align: right;\">\n",
       "      <th></th>\n",
       "      <th>Classifier</th>\n",
       "      <th>Hidden dim</th>\n",
       "      <th>Drop Out p</th>\n",
       "      <th>Learning Rate</th>\n",
       "      <th>Batch Normalization</th>\n",
       "      <th>Train Error</th>\n",
       "      <th>Test Error</th>\n",
       "      <th>Variance Error</th>\n",
       "    </tr>\n",
       "  </thead>\n",
       "  <tbody>\n",
       "    <tr>\n",
       "      <td>1</td>\n",
       "      <td>Fully Connected 1-Layer</td>\n",
       "      <td>20</td>\n",
       "      <td>None</td>\n",
       "      <td>0.005</td>\n",
       "      <td>len(x)</td>\n",
       "      <td>0.0683</td>\n",
       "      <td>0.0881</td>\n",
       "      <td>0.0032</td>\n",
       "    </tr>\n",
       "  </tbody>\n",
       "</table>\n",
       "</div>"
      ],
      "text/plain": [
       "                Classifier  Hidden dim Drop Out p  Learning Rate  \\\n",
       "1  Fully Connected 1-Layer          20       None          0.005   \n",
       "\n",
       "  Batch Normalization  Train Error  Test Error  Variance Error  \n",
       "1              len(x)       0.0683      0.0881          0.0032  "
      ]
     },
     "execution_count": 223,
     "metadata": {},
     "output_type": "execute_result"
    }
   ],
   "source": [
    "print('|Q|=20,', 'Old Distance,', \"Number of Users: \", \"41,\", 'Number of Trials = ', num_trials)\n",
    "print(\"Tanh,\", \"Number of Updates = \", Num_updates)\n",
    "Dic_1 = {}\n",
    "\n",
    "models = [\"Fully Connected 1-Layer\"]\n",
    "\n",
    "for k in range(len(models)): \n",
    "    Dic_1[k+1] = [models[k], H[0], None, learning_rate, \"len(x)\", \n",
    "                  np.round(mean_train_error, decimals = 4), \n",
    "                  np.round(mean_test_error, decimals = 4),\n",
    "                  np.round(var_test_error, decimals = 4)]\n",
    "    \n",
    "df_1 = pd.DataFrame.from_dict(Dic_1, orient='index', columns=['Classifier', 'Hidden dim', \n",
    "                                                              'Drop Out p', 'Learning Rate',\n",
    "                                                              'Batch Normalization', 'Train Error', \n",
    "                                                              'Test Error', 'Variance Error'])\n",
    "df_1"
   ]
  },
  {
   "cell_type": "markdown",
   "metadata": {},
   "source": [
    "### New Distance, $|Q|=50$, $\\sigma=0.25$"
   ]
  },
  {
   "cell_type": "code",
   "execution_count": 63,
   "metadata": {},
   "outputs": [
    {
     "name": "stdout",
     "output_type": "stream",
     "text": [
      "|Q|=50, sigma = 0.25, Number of Users:  41, Number of Trials =  1\n",
      "Activation = LeakyReLU(0.01), Learning Decay = 0.8 , Number of Updates =  200\n"
     ]
    },
    {
     "data": {
      "text/html": [
       "<div>\n",
       "<style scoped>\n",
       "    .dataframe tbody tr th:only-of-type {\n",
       "        vertical-align: middle;\n",
       "    }\n",
       "\n",
       "    .dataframe tbody tr th {\n",
       "        vertical-align: top;\n",
       "    }\n",
       "\n",
       "    .dataframe thead th {\n",
       "        text-align: right;\n",
       "    }\n",
       "</style>\n",
       "<table border=\"1\" class=\"dataframe\">\n",
       "  <thead>\n",
       "    <tr style=\"text-align: right;\">\n",
       "      <th></th>\n",
       "      <th>Classifier</th>\n",
       "      <th>Hidden dim</th>\n",
       "      <th>Drop Out p</th>\n",
       "      <th>Learning Rate</th>\n",
       "      <th>Batch Normalization</th>\n",
       "      <th>Train Error</th>\n",
       "      <th>Test Error</th>\n",
       "      <th>Variance Error</th>\n",
       "    </tr>\n",
       "  </thead>\n",
       "  <tbody>\n",
       "    <tr>\n",
       "      <td>1</td>\n",
       "      <td>Fully Connected 1-Layer</td>\n",
       "      <td>500</td>\n",
       "      <td>None</td>\n",
       "      <td>0.01</td>\n",
       "      <td>len(x)</td>\n",
       "      <td>0.008</td>\n",
       "      <td>0.1882</td>\n",
       "      <td>0.0052</td>\n",
       "    </tr>\n",
       "  </tbody>\n",
       "</table>\n",
       "</div>"
      ],
      "text/plain": [
       "                Classifier  Hidden dim Drop Out p  Learning Rate  \\\n",
       "1  Fully Connected 1-Layer         500       None           0.01   \n",
       "\n",
       "  Batch Normalization  Train Error  Test Error  Variance Error  \n",
       "1              len(x)        0.008      0.1882          0.0052  "
      ]
     },
     "execution_count": 63,
     "metadata": {},
     "output_type": "execute_result"
    }
   ],
   "source": [
    "print('|Q|=50,', 'sigma = 0.25,', \"Number of Users: \", \"41,\", 'Number of Trials = ', num_trials)\n",
    "print(\"Activation = LeakyReLU(0.01),\", \"Learning Decay =\", lr_decay, \n",
    "      \", Number of Updates = \", Num_updates)\n",
    "Dic_1 = {}\n",
    "\n",
    "Dic_1[1] = [\"Fully Connected 1-Layer\", H, None, learning_rate, \"len(x)\", \n",
    "              np.round(mean_train_error, decimals = 4), \n",
    "              np.round(mean_test_error, decimals = 4),\n",
    "              np.round(var_test_error, decimals = 4)]\n",
    "    \n",
    "df_1 = pd.DataFrame.from_dict(Dic_1, orient='index', \n",
    "                              columns=['Classifier', 'Hidden dim', \n",
    "                                       'Drop Out p', 'Learning Rate',\n",
    "                                       'Batch Normalization', 'Train Error', \n",
    "                                       'Test Error', 'Variance Error'])\n",
    "df_1"
   ]
  },
  {
   "cell_type": "markdown",
   "metadata": {},
   "source": [
    "### New Distance, $|Q|=50$, $\\sigma=1000$"
   ]
  },
  {
   "cell_type": "code",
   "execution_count": 12,
   "metadata": {},
   "outputs": [
    {
     "name": "stdout",
     "output_type": "stream",
     "text": [
      "|Q|=50, sigma = 1000, Number of Users:  41, Number of Trials =  1\n",
      "Activation = LeakyReLU(0.01), Learning Decay = 0.8 , Number of Updates =  1000\n"
     ]
    },
    {
     "data": {
      "text/html": [
       "<div>\n",
       "<style scoped>\n",
       "    .dataframe tbody tr th:only-of-type {\n",
       "        vertical-align: middle;\n",
       "    }\n",
       "\n",
       "    .dataframe tbody tr th {\n",
       "        vertical-align: top;\n",
       "    }\n",
       "\n",
       "    .dataframe thead th {\n",
       "        text-align: right;\n",
       "    }\n",
       "</style>\n",
       "<table border=\"1\" class=\"dataframe\">\n",
       "  <thead>\n",
       "    <tr style=\"text-align: right;\">\n",
       "      <th></th>\n",
       "      <th>Classifier</th>\n",
       "      <th>Hidden dim</th>\n",
       "      <th>Drop Out p</th>\n",
       "      <th>Learning Rate</th>\n",
       "      <th>Batch Normalization</th>\n",
       "      <th>Train Error</th>\n",
       "      <th>Test Error</th>\n",
       "      <th>Variance Error</th>\n",
       "    </tr>\n",
       "  </thead>\n",
       "  <tbody>\n",
       "    <tr>\n",
       "      <td>1</td>\n",
       "      <td>Fully Connected 1-Layer</td>\n",
       "      <td>200</td>\n",
       "      <td>None</td>\n",
       "      <td>0.05</td>\n",
       "      <td>len(x)</td>\n",
       "      <td>0.0692</td>\n",
       "      <td>0.2616</td>\n",
       "      <td>0.0084</td>\n",
       "    </tr>\n",
       "  </tbody>\n",
       "</table>\n",
       "</div>"
      ],
      "text/plain": [
       "                Classifier  Hidden dim Drop Out p  Learning Rate  \\\n",
       "1  Fully Connected 1-Layer         200       None           0.05   \n",
       "\n",
       "  Batch Normalization  Train Error  Test Error  Variance Error  \n",
       "1              len(x)       0.0692      0.2616          0.0084  "
      ]
     },
     "execution_count": 12,
     "metadata": {},
     "output_type": "execute_result"
    }
   ],
   "source": [
    "print('|Q|=50,', 'sigma = 1000,', \"Number of Users: \", \"41,\", 'Number of Trials = ', num_trials)\n",
    "print(\"Activation = LeakyReLU(0.01),\", \"Learning Decay =\", lr_decay, \n",
    "      \", Number of Updates = \", Num_updates)\n",
    "Dic_1 = {}\n",
    "\n",
    "Dic_1[1] = [\"Fully Connected 1-Layer\", H, None, learning_rate, \"len(x)\", \n",
    "              np.round(mean_train_error, decimals = 4), \n",
    "              np.round(mean_test_error, decimals = 4),\n",
    "              np.round(var_test_error, decimals = 4)]\n",
    "    \n",
    "df_1 = pd.DataFrame.from_dict(Dic_1, orient='index', \n",
    "                              columns=['Classifier', 'Hidden dim', \n",
    "                                       'Drop Out p', 'Learning Rate',\n",
    "                                       'Batch Normalization', 'Train Error', \n",
    "                                       'Test Error', 'Variance Error'])\n",
    "df_1"
   ]
  },
  {
   "cell_type": "markdown",
   "metadata": {},
   "source": [
    "### Old Distance, $|Q|=50$"
   ]
  },
  {
   "cell_type": "code",
   "execution_count": 13,
   "metadata": {},
   "outputs": [
    {
     "name": "stdout",
     "output_type": "stream",
     "text": [
      "|Q|=50, Old Distance, Number of Users:  41, Number of Trials =  1\n",
      "Activation = LeakyReLU(0.01), Learning Decay = 0.4 , Number of Updates =  10000\n"
     ]
    },
    {
     "data": {
      "text/html": [
       "<div>\n",
       "<style scoped>\n",
       "    .dataframe tbody tr th:only-of-type {\n",
       "        vertical-align: middle;\n",
       "    }\n",
       "\n",
       "    .dataframe tbody tr th {\n",
       "        vertical-align: top;\n",
       "    }\n",
       "\n",
       "    .dataframe thead th {\n",
       "        text-align: right;\n",
       "    }\n",
       "</style>\n",
       "<table border=\"1\" class=\"dataframe\">\n",
       "  <thead>\n",
       "    <tr style=\"text-align: right;\">\n",
       "      <th></th>\n",
       "      <th>Classifier</th>\n",
       "      <th>Hidden dim</th>\n",
       "      <th>Drop Out p</th>\n",
       "      <th>Learning Rate</th>\n",
       "      <th>Batch Normalization</th>\n",
       "      <th>Train Error</th>\n",
       "      <th>Test Error</th>\n",
       "      <th>Variance Error</th>\n",
       "    </tr>\n",
       "  </thead>\n",
       "  <tbody>\n",
       "    <tr>\n",
       "      <td>1</td>\n",
       "      <td>Fully Connected 1-Layer</td>\n",
       "      <td>500</td>\n",
       "      <td>None</td>\n",
       "      <td>0.01</td>\n",
       "      <td>len(x)</td>\n",
       "      <td>0.0191</td>\n",
       "      <td>0.0531</td>\n",
       "      <td>0.001</td>\n",
       "    </tr>\n",
       "  </tbody>\n",
       "</table>\n",
       "</div>"
      ],
      "text/plain": [
       "                Classifier  Hidden dim Drop Out p  Learning Rate  \\\n",
       "1  Fully Connected 1-Layer         500       None           0.01   \n",
       "\n",
       "  Batch Normalization  Train Error  Test Error  Variance Error  \n",
       "1              len(x)       0.0191      0.0531           0.001  "
      ]
     },
     "execution_count": 13,
     "metadata": {},
     "output_type": "execute_result"
    }
   ],
   "source": [
    "print('|Q|=50,', 'Old Distance,', \"Number of Users: \", \"41,\", 'Number of Trials = ', num_trials)\n",
    "print(\"Activation = LeakyReLU(0.01),\", \"Learning Decay =\", lr_decay, \n",
    "      \", Number of Updates = \", Num_updates)\n",
    "Dic_1 = {}\n",
    "\n",
    "Dic_1[1] = [\"Fully Connected 1-Layer\", H, None, learning_rate, \"len(x)\", \n",
    "              np.round(mean_train_error, decimals = 4), \n",
    "              np.round(mean_test_error, decimals = 4),\n",
    "              np.round(var_test_error, decimals = 4)]\n",
    "    \n",
    "df_1 = pd.DataFrame.from_dict(Dic_1, orient='index', \n",
    "                              columns=['Classifier', 'Hidden dim', \n",
    "                                       'Drop Out p', 'Learning Rate',\n",
    "                                       'Batch Normalization', 'Train Error', \n",
    "                                       'Test Error', 'Variance Error'])\n",
    "df_1"
   ]
  },
  {
   "cell_type": "code",
   "execution_count": null,
   "metadata": {},
   "outputs": [],
   "source": []
  }
 ],
 "metadata": {
  "colab": {
   "collapsed_sections": [],
   "name": "DL_project_classifiers.ipynb",
   "provenance": []
  },
  "kernelspec": {
   "display_name": "Python 3",
   "language": "python",
   "name": "python3"
  },
  "language_info": {
   "codemirror_mode": {
    "name": "ipython",
    "version": 3
   },
   "file_extension": ".py",
   "mimetype": "text/x-python",
   "name": "python",
   "nbconvert_exporter": "python",
   "pygments_lexer": "ipython3",
   "version": "3.7.4"
  }
 },
 "nbformat": 4,
 "nbformat_minor": 1
}
